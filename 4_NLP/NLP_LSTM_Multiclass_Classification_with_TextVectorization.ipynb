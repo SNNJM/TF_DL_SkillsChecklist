{
  "nbformat": 4,
  "nbformat_minor": 0,
  "metadata": {
    "colab": {
      "provenance": [],
      "toc_visible": true,
      "gpuType": "T4"
    },
    "kernelspec": {
      "name": "python3",
      "display_name": "Python 3"
    },
    "language_info": {
      "name": "python"
    },
    "accelerator": "GPU"
  },
  "cells": [
    {
      "cell_type": "markdown",
      "source": [
        "##Import Libraries"
      ],
      "metadata": {
        "id": "o5aHvi_R6Hf2"
      }
    },
    {
      "cell_type": "code",
      "source": [
        "import nltk\n",
        "nltk.download('stopwords')"
      ],
      "metadata": {
        "colab": {
          "base_uri": "https://localhost:8080/"
        },
        "id": "FQ1Bu-fybYCQ",
        "outputId": "1d00fdad-a77c-4fb0-9884-90b4c4d90470"
      },
      "execution_count": 2,
      "outputs": [
        {
          "output_type": "stream",
          "name": "stderr",
          "text": [
            "[nltk_data] Downloading package stopwords to /root/nltk_data...\n",
            "[nltk_data]   Unzipping corpora/stopwords.zip.\n"
          ]
        },
        {
          "output_type": "execute_result",
          "data": {
            "text/plain": [
              "True"
            ]
          },
          "metadata": {},
          "execution_count": 2
        }
      ]
    },
    {
      "cell_type": "code",
      "execution_count": 110,
      "metadata": {
        "colab": {
          "base_uri": "https://localhost:8080/",
          "height": 17
        },
        "id": "FXk3PBPURTJD",
        "outputId": "66a30752-40b8-47a5-9d1f-1d53c668b64c"
      },
      "outputs": [
        {
          "output_type": "display_data",
          "data": {
            "text/html": [
              "        <script type=\"text/javascript\">\n",
              "        window.PlotlyConfig = {MathJaxConfig: 'local'};\n",
              "        if (window.MathJax && window.MathJax.Hub && window.MathJax.Hub.Config) {window.MathJax.Hub.Config({SVG: {font: \"STIX-Web\"}});}\n",
              "        if (typeof require !== 'undefined') {\n",
              "        require.undef(\"plotly\");\n",
              "        requirejs.config({\n",
              "            paths: {\n",
              "                'plotly': ['https://cdn.plot.ly/plotly-2.24.1.min']\n",
              "            }\n",
              "        });\n",
              "        require(['plotly'], function(Plotly) {\n",
              "            window._Plotly = Plotly;\n",
              "        });\n",
              "        }\n",
              "        </script>\n",
              "        "
            ]
          },
          "metadata": {}
        }
      ],
      "source": [
        "import numpy as np\n",
        "import pandas as pd\n",
        "import matplotlib.pyplot as plt\n",
        "import seaborn as sns\n",
        "from keras.preprocessing.text import Tokenizer\n",
        "from keras.preprocessing.sequence import pad_sequences\n",
        "from keras.models import Sequential\n",
        "from keras.layers import Dense, Embedding, LSTM, SpatialDropout1D,GlobalAveragePooling1D,GlobalAveragePooling2D\n",
        "from sklearn.model_selection import train_test_split\n",
        "from keras.callbacks import EarlyStopping\n",
        "from keras.layers import Dropout\n",
        "import re\n",
        "from nltk.corpus import stopwords\n",
        "from nltk import word_tokenize\n",
        "STOPWORDS = set(stopwords.words('english'))\n",
        "from bs4 import BeautifulSoup\n",
        "import plotly.graph_objs as go\n",
        "import cufflinks\n",
        "from IPython.core.interactiveshell import InteractiveShell\n",
        "import plotly.figure_factory as ff\n",
        "InteractiveShell.ast_node_interactivity = 'all'\n",
        "from plotly.offline import iplot\n",
        "cufflinks.go_offline()\n",
        "cufflinks.set_config_file(world_readable=True, theme='pearl')"
      ]
    },
    {
      "cell_type": "markdown",
      "source": [
        "## Download required files"
      ],
      "metadata": {
        "id": "DbUA2Nrq6L3v"
      }
    },
    {
      "cell_type": "code",
      "source": [
        "# Download helper function\n",
        "!wget https://raw.githubusercontent.com/SNNJM/Tensorflow_Deep_Learning/main/extras/helper_function.py"
      ],
      "metadata": {
        "colab": {
          "base_uri": "https://localhost:8080/"
        },
        "id": "7OO1UNBVdQq-",
        "outputId": "291237e0-96a1-4411-b981-98b9b54c8fe7"
      },
      "execution_count": 7,
      "outputs": [
        {
          "output_type": "stream",
          "name": "stdout",
          "text": [
            "--2023-09-16 20:27:06--  https://raw.githubusercontent.com/SNNJM/Tensorflow_Deep_Learning/main/extras/helper_function.py\n",
            "Resolving raw.githubusercontent.com (raw.githubusercontent.com)... 185.199.108.133, 185.199.109.133, 185.199.110.133, ...\n",
            "Connecting to raw.githubusercontent.com (raw.githubusercontent.com)|185.199.108.133|:443... connected.\n",
            "HTTP request sent, awaiting response... 200 OK\n",
            "Length: 10246 (10K) [text/plain]\n",
            "Saving to: ‘helper_function.py’\n",
            "\n",
            "helper_function.py  100%[===================>]  10.01K  --.-KB/s    in 0s      \n",
            "\n",
            "2023-09-16 20:27:06 (89.4 MB/s) - ‘helper_function.py’ saved [10246/10246]\n",
            "\n"
          ]
        }
      ]
    },
    {
      "cell_type": "code",
      "source": [
        "# Import series of helper functions for the notebook\n",
        "from helper_function import unzip_data, create_tensorboard_callback, plot_loss_curves, compare_historys"
      ],
      "metadata": {
        "id": "wLefCVvgdU0p"
      },
      "execution_count": 8,
      "outputs": []
    },
    {
      "cell_type": "code",
      "source": [
        "# Download dataset\n",
        "!wget https://raw.githubusercontent.com/SNNJM/TF_DL_SkillsChecklist/main/4_NLP/dataset/Consumer_Complaints.csv"
      ],
      "metadata": {
        "colab": {
          "base_uri": "https://localhost:8080/"
        },
        "id": "FYvHbG2pdKec",
        "outputId": "640ddc10-bd26-4d64-b3c5-19bfcf7882a1"
      },
      "execution_count": 60,
      "outputs": [
        {
          "output_type": "stream",
          "name": "stdout",
          "text": [
            "--2023-09-16 21:26:42--  https://raw.githubusercontent.com/SNNJM/TF_DL_SkillsChecklist/main/4_NLP/dataset/Consumer_Complaints.csv\n",
            "Resolving raw.githubusercontent.com (raw.githubusercontent.com)... 185.199.109.133, 185.199.108.133, 185.199.111.133, ...\n",
            "Connecting to raw.githubusercontent.com (raw.githubusercontent.com)|185.199.109.133|:443... connected.\n",
            "HTTP request sent, awaiting response... 200 OK\n",
            "Length: 137540 (134K) [text/plain]\n",
            "Saving to: ‘Consumer_Complaints.csv’\n",
            "\n",
            "Consumer_Complaints 100%[===================>] 134.32K  --.-KB/s    in 0.002s  \n",
            "\n",
            "2023-09-16 21:26:43 (60.1 MB/s) - ‘Consumer_Complaints.csv’ saved [137540/137540]\n",
            "\n"
          ]
        }
      ]
    },
    {
      "cell_type": "markdown",
      "source": [
        "## Visualizing dataset"
      ],
      "metadata": {
        "id": "LQcH4BD_6Ppi"
      }
    },
    {
      "cell_type": "code",
      "source": [
        "df = pd.read_csv('/content/Consumer_Complaints.csv')\n"
      ],
      "metadata": {
        "id": "NbitNVypiSiO"
      },
      "execution_count": 61,
      "outputs": []
    },
    {
      "cell_type": "code",
      "source": [
        "df.head()"
      ],
      "metadata": {
        "colab": {
          "base_uri": "https://localhost:8080/",
          "height": 712
        },
        "id": "JuZfoq4JiS9O",
        "outputId": "e67b696c-ea22-44a9-ce89-02de05f0b6a2"
      },
      "execution_count": 62,
      "outputs": [
        {
          "output_type": "execute_result",
          "data": {
            "text/plain": [
              "  Date received           Product                            Sub-product  \\\n",
              "0     10/1/2016  Credit reporting                                    NaN   \n",
              "1    10/17/2016     Consumer Loan                           Vehicle loan   \n",
              "2     6/15/2015  Credit reporting                                    NaN   \n",
              "3      2/3/2016   Debt collection  Other (i.e. phone, health club, etc.)   \n",
              "4     2/17/2016   Debt collection                            Credit card   \n",
              "\n",
              "                                      Issue  \\\n",
              "0    Incorrect information on credit report   \n",
              "1                Managing the loan or lease   \n",
              "2  Credit reporting company's investigation   \n",
              "3           Disclosure verification of debt   \n",
              "4       Improper contact or sharing of info   \n",
              "\n",
              "                               Sub-issue  \\\n",
              "0                         Account status   \n",
              "1                                    NaN   \n",
              "2         Inadequate help over the phone   \n",
              "3   Not given enough info to verify debt   \n",
              "4  Talked to a third party about my debt   \n",
              "\n",
              "                        Consumer complaint narrative  \\\n",
              "0  I have outdated information on my credit repor...   \n",
              "1  I purchased a new car on XXXX XXXX. The car de...   \n",
              "2  An account on my credit report has a mistaken ...   \n",
              "3  This company refuses to provide me verificatio...   \n",
              "4  This complaint is in regards to Square Two Fin...   \n",
              "\n",
              "                             Company public response  \\\n",
              "0  Company has responded to the consumer and the ...   \n",
              "1                                                NaN   \n",
              "2   Company chooses not to provide a public response   \n",
              "3                                                NaN   \n",
              "4  Company has responded to the consumer and the ...   \n",
              "\n",
              "                                  Company State ZIP code            Tags  \\\n",
              "0  TRANSUNION INTERMEDIATE HOLDINGS, INC.    AL    352XX             NaN   \n",
              "1          CITIZENS FINANCIAL GROUP, INC.    PA    177XX  Older American   \n",
              "2     Experian Information Solutions Inc.    VA    224XX             NaN   \n",
              "3                     The CBE Group, Inc.    TX    752XX             NaN   \n",
              "4         SQUARETWO FINANCIAL CORPORATION    NE    693XX             NaN   \n",
              "\n",
              "  Consumer consent provided? Submitted via Date sent to company  \\\n",
              "0           Consent provided           Web            10/5/2016   \n",
              "1           Consent provided           Web           10/20/2016   \n",
              "2           Consent provided           Web            6/15/2015   \n",
              "3           Consent provided           Web             2/3/2016   \n",
              "4           Consent provided           Web             3/4/2016   \n",
              "\n",
              "  Company response to consumer Timely response? Consumer disputed?  \\\n",
              "0      Closed with explanation              Yes                 No   \n",
              "1      Closed with explanation              Yes                 No   \n",
              "2      Closed with explanation              Yes                 No   \n",
              "3      Closed with explanation              Yes                Yes   \n",
              "4      Closed with explanation              Yes                Yes   \n",
              "\n",
              "   Complaint ID  \n",
              "0       2141773  \n",
              "1       2163100  \n",
              "2       1420702  \n",
              "3       1772196  \n",
              "4       1790634  "
            ],
            "text/html": [
              "\n",
              "  <div id=\"df-140f0595-f7c4-4f99-b799-292825940268\" class=\"colab-df-container\">\n",
              "    <div>\n",
              "<style scoped>\n",
              "    .dataframe tbody tr th:only-of-type {\n",
              "        vertical-align: middle;\n",
              "    }\n",
              "\n",
              "    .dataframe tbody tr th {\n",
              "        vertical-align: top;\n",
              "    }\n",
              "\n",
              "    .dataframe thead th {\n",
              "        text-align: right;\n",
              "    }\n",
              "</style>\n",
              "<table border=\"1\" class=\"dataframe\">\n",
              "  <thead>\n",
              "    <tr style=\"text-align: right;\">\n",
              "      <th></th>\n",
              "      <th>Date received</th>\n",
              "      <th>Product</th>\n",
              "      <th>Sub-product</th>\n",
              "      <th>Issue</th>\n",
              "      <th>Sub-issue</th>\n",
              "      <th>Consumer complaint narrative</th>\n",
              "      <th>Company public response</th>\n",
              "      <th>Company</th>\n",
              "      <th>State</th>\n",
              "      <th>ZIP code</th>\n",
              "      <th>Tags</th>\n",
              "      <th>Consumer consent provided?</th>\n",
              "      <th>Submitted via</th>\n",
              "      <th>Date sent to company</th>\n",
              "      <th>Company response to consumer</th>\n",
              "      <th>Timely response?</th>\n",
              "      <th>Consumer disputed?</th>\n",
              "      <th>Complaint ID</th>\n",
              "    </tr>\n",
              "  </thead>\n",
              "  <tbody>\n",
              "    <tr>\n",
              "      <th>0</th>\n",
              "      <td>10/1/2016</td>\n",
              "      <td>Credit reporting</td>\n",
              "      <td>NaN</td>\n",
              "      <td>Incorrect information on credit report</td>\n",
              "      <td>Account status</td>\n",
              "      <td>I have outdated information on my credit repor...</td>\n",
              "      <td>Company has responded to the consumer and the ...</td>\n",
              "      <td>TRANSUNION INTERMEDIATE HOLDINGS, INC.</td>\n",
              "      <td>AL</td>\n",
              "      <td>352XX</td>\n",
              "      <td>NaN</td>\n",
              "      <td>Consent provided</td>\n",
              "      <td>Web</td>\n",
              "      <td>10/5/2016</td>\n",
              "      <td>Closed with explanation</td>\n",
              "      <td>Yes</td>\n",
              "      <td>No</td>\n",
              "      <td>2141773</td>\n",
              "    </tr>\n",
              "    <tr>\n",
              "      <th>1</th>\n",
              "      <td>10/17/2016</td>\n",
              "      <td>Consumer Loan</td>\n",
              "      <td>Vehicle loan</td>\n",
              "      <td>Managing the loan or lease</td>\n",
              "      <td>NaN</td>\n",
              "      <td>I purchased a new car on XXXX XXXX. The car de...</td>\n",
              "      <td>NaN</td>\n",
              "      <td>CITIZENS FINANCIAL GROUP, INC.</td>\n",
              "      <td>PA</td>\n",
              "      <td>177XX</td>\n",
              "      <td>Older American</td>\n",
              "      <td>Consent provided</td>\n",
              "      <td>Web</td>\n",
              "      <td>10/20/2016</td>\n",
              "      <td>Closed with explanation</td>\n",
              "      <td>Yes</td>\n",
              "      <td>No</td>\n",
              "      <td>2163100</td>\n",
              "    </tr>\n",
              "    <tr>\n",
              "      <th>2</th>\n",
              "      <td>6/15/2015</td>\n",
              "      <td>Credit reporting</td>\n",
              "      <td>NaN</td>\n",
              "      <td>Credit reporting company's investigation</td>\n",
              "      <td>Inadequate help over the phone</td>\n",
              "      <td>An account on my credit report has a mistaken ...</td>\n",
              "      <td>Company chooses not to provide a public response</td>\n",
              "      <td>Experian Information Solutions Inc.</td>\n",
              "      <td>VA</td>\n",
              "      <td>224XX</td>\n",
              "      <td>NaN</td>\n",
              "      <td>Consent provided</td>\n",
              "      <td>Web</td>\n",
              "      <td>6/15/2015</td>\n",
              "      <td>Closed with explanation</td>\n",
              "      <td>Yes</td>\n",
              "      <td>No</td>\n",
              "      <td>1420702</td>\n",
              "    </tr>\n",
              "    <tr>\n",
              "      <th>3</th>\n",
              "      <td>2/3/2016</td>\n",
              "      <td>Debt collection</td>\n",
              "      <td>Other (i.e. phone, health club, etc.)</td>\n",
              "      <td>Disclosure verification of debt</td>\n",
              "      <td>Not given enough info to verify debt</td>\n",
              "      <td>This company refuses to provide me verificatio...</td>\n",
              "      <td>NaN</td>\n",
              "      <td>The CBE Group, Inc.</td>\n",
              "      <td>TX</td>\n",
              "      <td>752XX</td>\n",
              "      <td>NaN</td>\n",
              "      <td>Consent provided</td>\n",
              "      <td>Web</td>\n",
              "      <td>2/3/2016</td>\n",
              "      <td>Closed with explanation</td>\n",
              "      <td>Yes</td>\n",
              "      <td>Yes</td>\n",
              "      <td>1772196</td>\n",
              "    </tr>\n",
              "    <tr>\n",
              "      <th>4</th>\n",
              "      <td>2/17/2016</td>\n",
              "      <td>Debt collection</td>\n",
              "      <td>Credit card</td>\n",
              "      <td>Improper contact or sharing of info</td>\n",
              "      <td>Talked to a third party about my debt</td>\n",
              "      <td>This complaint is in regards to Square Two Fin...</td>\n",
              "      <td>Company has responded to the consumer and the ...</td>\n",
              "      <td>SQUARETWO FINANCIAL CORPORATION</td>\n",
              "      <td>NE</td>\n",
              "      <td>693XX</td>\n",
              "      <td>NaN</td>\n",
              "      <td>Consent provided</td>\n",
              "      <td>Web</td>\n",
              "      <td>3/4/2016</td>\n",
              "      <td>Closed with explanation</td>\n",
              "      <td>Yes</td>\n",
              "      <td>Yes</td>\n",
              "      <td>1790634</td>\n",
              "    </tr>\n",
              "  </tbody>\n",
              "</table>\n",
              "</div>\n",
              "    <div class=\"colab-df-buttons\">\n",
              "\n",
              "  <div class=\"colab-df-container\">\n",
              "    <button class=\"colab-df-convert\" onclick=\"convertToInteractive('df-140f0595-f7c4-4f99-b799-292825940268')\"\n",
              "            title=\"Convert this dataframe to an interactive table.\"\n",
              "            style=\"display:none;\">\n",
              "\n",
              "  <svg xmlns=\"http://www.w3.org/2000/svg\" height=\"24px\" viewBox=\"0 -960 960 960\">\n",
              "    <path d=\"M120-120v-720h720v720H120Zm60-500h600v-160H180v160Zm220 220h160v-160H400v160Zm0 220h160v-160H400v160ZM180-400h160v-160H180v160Zm440 0h160v-160H620v160ZM180-180h160v-160H180v160Zm440 0h160v-160H620v160Z\"/>\n",
              "  </svg>\n",
              "    </button>\n",
              "\n",
              "  <style>\n",
              "    .colab-df-container {\n",
              "      display:flex;\n",
              "      gap: 12px;\n",
              "    }\n",
              "\n",
              "    .colab-df-convert {\n",
              "      background-color: #E8F0FE;\n",
              "      border: none;\n",
              "      border-radius: 50%;\n",
              "      cursor: pointer;\n",
              "      display: none;\n",
              "      fill: #1967D2;\n",
              "      height: 32px;\n",
              "      padding: 0 0 0 0;\n",
              "      width: 32px;\n",
              "    }\n",
              "\n",
              "    .colab-df-convert:hover {\n",
              "      background-color: #E2EBFA;\n",
              "      box-shadow: 0px 1px 2px rgba(60, 64, 67, 0.3), 0px 1px 3px 1px rgba(60, 64, 67, 0.15);\n",
              "      fill: #174EA6;\n",
              "    }\n",
              "\n",
              "    .colab-df-buttons div {\n",
              "      margin-bottom: 4px;\n",
              "    }\n",
              "\n",
              "    [theme=dark] .colab-df-convert {\n",
              "      background-color: #3B4455;\n",
              "      fill: #D2E3FC;\n",
              "    }\n",
              "\n",
              "    [theme=dark] .colab-df-convert:hover {\n",
              "      background-color: #434B5C;\n",
              "      box-shadow: 0px 1px 3px 1px rgba(0, 0, 0, 0.15);\n",
              "      filter: drop-shadow(0px 1px 2px rgba(0, 0, 0, 0.3));\n",
              "      fill: #FFFFFF;\n",
              "    }\n",
              "  </style>\n",
              "\n",
              "    <script>\n",
              "      const buttonEl =\n",
              "        document.querySelector('#df-140f0595-f7c4-4f99-b799-292825940268 button.colab-df-convert');\n",
              "      buttonEl.style.display =\n",
              "        google.colab.kernel.accessAllowed ? 'block' : 'none';\n",
              "\n",
              "      async function convertToInteractive(key) {\n",
              "        const element = document.querySelector('#df-140f0595-f7c4-4f99-b799-292825940268');\n",
              "        const dataTable =\n",
              "          await google.colab.kernel.invokeFunction('convertToInteractive',\n",
              "                                                    [key], {});\n",
              "        if (!dataTable) return;\n",
              "\n",
              "        const docLinkHtml = 'Like what you see? Visit the ' +\n",
              "          '<a target=\"_blank\" href=https://colab.research.google.com/notebooks/data_table.ipynb>data table notebook</a>'\n",
              "          + ' to learn more about interactive tables.';\n",
              "        element.innerHTML = '';\n",
              "        dataTable['output_type'] = 'display_data';\n",
              "        await google.colab.output.renderOutput(dataTable, element);\n",
              "        const docLink = document.createElement('div');\n",
              "        docLink.innerHTML = docLinkHtml;\n",
              "        element.appendChild(docLink);\n",
              "      }\n",
              "    </script>\n",
              "  </div>\n",
              "\n",
              "\n",
              "<div id=\"df-09fae185-df1e-4744-968d-4b414b3d563b\">\n",
              "  <button class=\"colab-df-quickchart\" onclick=\"quickchart('df-09fae185-df1e-4744-968d-4b414b3d563b')\"\n",
              "            title=\"Suggest charts.\"\n",
              "            style=\"display:none;\">\n",
              "\n",
              "<svg xmlns=\"http://www.w3.org/2000/svg\" height=\"24px\"viewBox=\"0 0 24 24\"\n",
              "     width=\"24px\">\n",
              "    <g>\n",
              "        <path d=\"M19 3H5c-1.1 0-2 .9-2 2v14c0 1.1.9 2 2 2h14c1.1 0 2-.9 2-2V5c0-1.1-.9-2-2-2zM9 17H7v-7h2v7zm4 0h-2V7h2v10zm4 0h-2v-4h2v4z\"/>\n",
              "    </g>\n",
              "</svg>\n",
              "  </button>\n",
              "\n",
              "<style>\n",
              "  .colab-df-quickchart {\n",
              "      --bg-color: #E8F0FE;\n",
              "      --fill-color: #1967D2;\n",
              "      --hover-bg-color: #E2EBFA;\n",
              "      --hover-fill-color: #174EA6;\n",
              "      --disabled-fill-color: #AAA;\n",
              "      --disabled-bg-color: #DDD;\n",
              "  }\n",
              "\n",
              "  [theme=dark] .colab-df-quickchart {\n",
              "      --bg-color: #3B4455;\n",
              "      --fill-color: #D2E3FC;\n",
              "      --hover-bg-color: #434B5C;\n",
              "      --hover-fill-color: #FFFFFF;\n",
              "      --disabled-bg-color: #3B4455;\n",
              "      --disabled-fill-color: #666;\n",
              "  }\n",
              "\n",
              "  .colab-df-quickchart {\n",
              "    background-color: var(--bg-color);\n",
              "    border: none;\n",
              "    border-radius: 50%;\n",
              "    cursor: pointer;\n",
              "    display: none;\n",
              "    fill: var(--fill-color);\n",
              "    height: 32px;\n",
              "    padding: 0;\n",
              "    width: 32px;\n",
              "  }\n",
              "\n",
              "  .colab-df-quickchart:hover {\n",
              "    background-color: var(--hover-bg-color);\n",
              "    box-shadow: 0 1px 2px rgba(60, 64, 67, 0.3), 0 1px 3px 1px rgba(60, 64, 67, 0.15);\n",
              "    fill: var(--button-hover-fill-color);\n",
              "  }\n",
              "\n",
              "  .colab-df-quickchart-complete:disabled,\n",
              "  .colab-df-quickchart-complete:disabled:hover {\n",
              "    background-color: var(--disabled-bg-color);\n",
              "    fill: var(--disabled-fill-color);\n",
              "    box-shadow: none;\n",
              "  }\n",
              "\n",
              "  .colab-df-spinner {\n",
              "    border: 2px solid var(--fill-color);\n",
              "    border-color: transparent;\n",
              "    border-bottom-color: var(--fill-color);\n",
              "    animation:\n",
              "      spin 1s steps(1) infinite;\n",
              "  }\n",
              "\n",
              "  @keyframes spin {\n",
              "    0% {\n",
              "      border-color: transparent;\n",
              "      border-bottom-color: var(--fill-color);\n",
              "      border-left-color: var(--fill-color);\n",
              "    }\n",
              "    20% {\n",
              "      border-color: transparent;\n",
              "      border-left-color: var(--fill-color);\n",
              "      border-top-color: var(--fill-color);\n",
              "    }\n",
              "    30% {\n",
              "      border-color: transparent;\n",
              "      border-left-color: var(--fill-color);\n",
              "      border-top-color: var(--fill-color);\n",
              "      border-right-color: var(--fill-color);\n",
              "    }\n",
              "    40% {\n",
              "      border-color: transparent;\n",
              "      border-right-color: var(--fill-color);\n",
              "      border-top-color: var(--fill-color);\n",
              "    }\n",
              "    60% {\n",
              "      border-color: transparent;\n",
              "      border-right-color: var(--fill-color);\n",
              "    }\n",
              "    80% {\n",
              "      border-color: transparent;\n",
              "      border-right-color: var(--fill-color);\n",
              "      border-bottom-color: var(--fill-color);\n",
              "    }\n",
              "    90% {\n",
              "      border-color: transparent;\n",
              "      border-bottom-color: var(--fill-color);\n",
              "    }\n",
              "  }\n",
              "</style>\n",
              "\n",
              "  <script>\n",
              "    async function quickchart(key) {\n",
              "      const quickchartButtonEl =\n",
              "        document.querySelector('#' + key + ' button');\n",
              "      quickchartButtonEl.disabled = true;  // To prevent multiple clicks.\n",
              "      quickchartButtonEl.classList.add('colab-df-spinner');\n",
              "      try {\n",
              "        const charts = await google.colab.kernel.invokeFunction(\n",
              "            'suggestCharts', [key], {});\n",
              "      } catch (error) {\n",
              "        console.error('Error during call to suggestCharts:', error);\n",
              "      }\n",
              "      quickchartButtonEl.classList.remove('colab-df-spinner');\n",
              "      quickchartButtonEl.classList.add('colab-df-quickchart-complete');\n",
              "    }\n",
              "    (() => {\n",
              "      let quickchartButtonEl =\n",
              "        document.querySelector('#df-09fae185-df1e-4744-968d-4b414b3d563b button');\n",
              "      quickchartButtonEl.style.display =\n",
              "        google.colab.kernel.accessAllowed ? 'block' : 'none';\n",
              "    })();\n",
              "  </script>\n",
              "</div>\n",
              "    </div>\n",
              "  </div>\n"
            ]
          },
          "metadata": {},
          "execution_count": 62
        }
      ]
    },
    {
      "cell_type": "code",
      "source": [
        "df.describe()"
      ],
      "metadata": {
        "colab": {
          "base_uri": "https://localhost:8080/",
          "height": 300
        },
        "id": "SciaOnh2MtYY",
        "outputId": "134fb57a-b073-4154-f6de-450fc69c2039"
      },
      "execution_count": 180,
      "outputs": [
        {
          "output_type": "execute_result",
          "data": {
            "text/plain": [
              "       Complaint ID\n",
              "count  1.050000e+02\n",
              "mean   1.973987e+06\n",
              "std    3.818401e+05\n",
              "min    1.297495e+06\n",
              "25%    1.688961e+06\n",
              "50%    1.992309e+06\n",
              "75%    2.283195e+06\n",
              "max    2.587037e+06"
            ],
            "text/html": [
              "\n",
              "  <div id=\"df-1f5c1c5f-1791-4083-9217-05f9e5fd47a1\" class=\"colab-df-container\">\n",
              "    <div>\n",
              "<style scoped>\n",
              "    .dataframe tbody tr th:only-of-type {\n",
              "        vertical-align: middle;\n",
              "    }\n",
              "\n",
              "    .dataframe tbody tr th {\n",
              "        vertical-align: top;\n",
              "    }\n",
              "\n",
              "    .dataframe thead th {\n",
              "        text-align: right;\n",
              "    }\n",
              "</style>\n",
              "<table border=\"1\" class=\"dataframe\">\n",
              "  <thead>\n",
              "    <tr style=\"text-align: right;\">\n",
              "      <th></th>\n",
              "      <th>Complaint ID</th>\n",
              "    </tr>\n",
              "  </thead>\n",
              "  <tbody>\n",
              "    <tr>\n",
              "      <th>count</th>\n",
              "      <td>1.050000e+02</td>\n",
              "    </tr>\n",
              "    <tr>\n",
              "      <th>mean</th>\n",
              "      <td>1.973987e+06</td>\n",
              "    </tr>\n",
              "    <tr>\n",
              "      <th>std</th>\n",
              "      <td>3.818401e+05</td>\n",
              "    </tr>\n",
              "    <tr>\n",
              "      <th>min</th>\n",
              "      <td>1.297495e+06</td>\n",
              "    </tr>\n",
              "    <tr>\n",
              "      <th>25%</th>\n",
              "      <td>1.688961e+06</td>\n",
              "    </tr>\n",
              "    <tr>\n",
              "      <th>50%</th>\n",
              "      <td>1.992309e+06</td>\n",
              "    </tr>\n",
              "    <tr>\n",
              "      <th>75%</th>\n",
              "      <td>2.283195e+06</td>\n",
              "    </tr>\n",
              "    <tr>\n",
              "      <th>max</th>\n",
              "      <td>2.587037e+06</td>\n",
              "    </tr>\n",
              "  </tbody>\n",
              "</table>\n",
              "</div>\n",
              "    <div class=\"colab-df-buttons\">\n",
              "\n",
              "  <div class=\"colab-df-container\">\n",
              "    <button class=\"colab-df-convert\" onclick=\"convertToInteractive('df-1f5c1c5f-1791-4083-9217-05f9e5fd47a1')\"\n",
              "            title=\"Convert this dataframe to an interactive table.\"\n",
              "            style=\"display:none;\">\n",
              "\n",
              "  <svg xmlns=\"http://www.w3.org/2000/svg\" height=\"24px\" viewBox=\"0 -960 960 960\">\n",
              "    <path d=\"M120-120v-720h720v720H120Zm60-500h600v-160H180v160Zm220 220h160v-160H400v160Zm0 220h160v-160H400v160ZM180-400h160v-160H180v160Zm440 0h160v-160H620v160ZM180-180h160v-160H180v160Zm440 0h160v-160H620v160Z\"/>\n",
              "  </svg>\n",
              "    </button>\n",
              "\n",
              "  <style>\n",
              "    .colab-df-container {\n",
              "      display:flex;\n",
              "      gap: 12px;\n",
              "    }\n",
              "\n",
              "    .colab-df-convert {\n",
              "      background-color: #E8F0FE;\n",
              "      border: none;\n",
              "      border-radius: 50%;\n",
              "      cursor: pointer;\n",
              "      display: none;\n",
              "      fill: #1967D2;\n",
              "      height: 32px;\n",
              "      padding: 0 0 0 0;\n",
              "      width: 32px;\n",
              "    }\n",
              "\n",
              "    .colab-df-convert:hover {\n",
              "      background-color: #E2EBFA;\n",
              "      box-shadow: 0px 1px 2px rgba(60, 64, 67, 0.3), 0px 1px 3px 1px rgba(60, 64, 67, 0.15);\n",
              "      fill: #174EA6;\n",
              "    }\n",
              "\n",
              "    .colab-df-buttons div {\n",
              "      margin-bottom: 4px;\n",
              "    }\n",
              "\n",
              "    [theme=dark] .colab-df-convert {\n",
              "      background-color: #3B4455;\n",
              "      fill: #D2E3FC;\n",
              "    }\n",
              "\n",
              "    [theme=dark] .colab-df-convert:hover {\n",
              "      background-color: #434B5C;\n",
              "      box-shadow: 0px 1px 3px 1px rgba(0, 0, 0, 0.15);\n",
              "      filter: drop-shadow(0px 1px 2px rgba(0, 0, 0, 0.3));\n",
              "      fill: #FFFFFF;\n",
              "    }\n",
              "  </style>\n",
              "\n",
              "    <script>\n",
              "      const buttonEl =\n",
              "        document.querySelector('#df-1f5c1c5f-1791-4083-9217-05f9e5fd47a1 button.colab-df-convert');\n",
              "      buttonEl.style.display =\n",
              "        google.colab.kernel.accessAllowed ? 'block' : 'none';\n",
              "\n",
              "      async function convertToInteractive(key) {\n",
              "        const element = document.querySelector('#df-1f5c1c5f-1791-4083-9217-05f9e5fd47a1');\n",
              "        const dataTable =\n",
              "          await google.colab.kernel.invokeFunction('convertToInteractive',\n",
              "                                                    [key], {});\n",
              "        if (!dataTable) return;\n",
              "\n",
              "        const docLinkHtml = 'Like what you see? Visit the ' +\n",
              "          '<a target=\"_blank\" href=https://colab.research.google.com/notebooks/data_table.ipynb>data table notebook</a>'\n",
              "          + ' to learn more about interactive tables.';\n",
              "        element.innerHTML = '';\n",
              "        dataTable['output_type'] = 'display_data';\n",
              "        await google.colab.output.renderOutput(dataTable, element);\n",
              "        const docLink = document.createElement('div');\n",
              "        docLink.innerHTML = docLinkHtml;\n",
              "        element.appendChild(docLink);\n",
              "      }\n",
              "    </script>\n",
              "  </div>\n",
              "\n",
              "\n",
              "<div id=\"df-ae9dd380-5277-4a83-ba64-20143a1a3f4c\">\n",
              "  <button class=\"colab-df-quickchart\" onclick=\"quickchart('df-ae9dd380-5277-4a83-ba64-20143a1a3f4c')\"\n",
              "            title=\"Suggest charts.\"\n",
              "            style=\"display:none;\">\n",
              "\n",
              "<svg xmlns=\"http://www.w3.org/2000/svg\" height=\"24px\"viewBox=\"0 0 24 24\"\n",
              "     width=\"24px\">\n",
              "    <g>\n",
              "        <path d=\"M19 3H5c-1.1 0-2 .9-2 2v14c0 1.1.9 2 2 2h14c1.1 0 2-.9 2-2V5c0-1.1-.9-2-2-2zM9 17H7v-7h2v7zm4 0h-2V7h2v10zm4 0h-2v-4h2v4z\"/>\n",
              "    </g>\n",
              "</svg>\n",
              "  </button>\n",
              "\n",
              "<style>\n",
              "  .colab-df-quickchart {\n",
              "      --bg-color: #E8F0FE;\n",
              "      --fill-color: #1967D2;\n",
              "      --hover-bg-color: #E2EBFA;\n",
              "      --hover-fill-color: #174EA6;\n",
              "      --disabled-fill-color: #AAA;\n",
              "      --disabled-bg-color: #DDD;\n",
              "  }\n",
              "\n",
              "  [theme=dark] .colab-df-quickchart {\n",
              "      --bg-color: #3B4455;\n",
              "      --fill-color: #D2E3FC;\n",
              "      --hover-bg-color: #434B5C;\n",
              "      --hover-fill-color: #FFFFFF;\n",
              "      --disabled-bg-color: #3B4455;\n",
              "      --disabled-fill-color: #666;\n",
              "  }\n",
              "\n",
              "  .colab-df-quickchart {\n",
              "    background-color: var(--bg-color);\n",
              "    border: none;\n",
              "    border-radius: 50%;\n",
              "    cursor: pointer;\n",
              "    display: none;\n",
              "    fill: var(--fill-color);\n",
              "    height: 32px;\n",
              "    padding: 0;\n",
              "    width: 32px;\n",
              "  }\n",
              "\n",
              "  .colab-df-quickchart:hover {\n",
              "    background-color: var(--hover-bg-color);\n",
              "    box-shadow: 0 1px 2px rgba(60, 64, 67, 0.3), 0 1px 3px 1px rgba(60, 64, 67, 0.15);\n",
              "    fill: var(--button-hover-fill-color);\n",
              "  }\n",
              "\n",
              "  .colab-df-quickchart-complete:disabled,\n",
              "  .colab-df-quickchart-complete:disabled:hover {\n",
              "    background-color: var(--disabled-bg-color);\n",
              "    fill: var(--disabled-fill-color);\n",
              "    box-shadow: none;\n",
              "  }\n",
              "\n",
              "  .colab-df-spinner {\n",
              "    border: 2px solid var(--fill-color);\n",
              "    border-color: transparent;\n",
              "    border-bottom-color: var(--fill-color);\n",
              "    animation:\n",
              "      spin 1s steps(1) infinite;\n",
              "  }\n",
              "\n",
              "  @keyframes spin {\n",
              "    0% {\n",
              "      border-color: transparent;\n",
              "      border-bottom-color: var(--fill-color);\n",
              "      border-left-color: var(--fill-color);\n",
              "    }\n",
              "    20% {\n",
              "      border-color: transparent;\n",
              "      border-left-color: var(--fill-color);\n",
              "      border-top-color: var(--fill-color);\n",
              "    }\n",
              "    30% {\n",
              "      border-color: transparent;\n",
              "      border-left-color: var(--fill-color);\n",
              "      border-top-color: var(--fill-color);\n",
              "      border-right-color: var(--fill-color);\n",
              "    }\n",
              "    40% {\n",
              "      border-color: transparent;\n",
              "      border-right-color: var(--fill-color);\n",
              "      border-top-color: var(--fill-color);\n",
              "    }\n",
              "    60% {\n",
              "      border-color: transparent;\n",
              "      border-right-color: var(--fill-color);\n",
              "    }\n",
              "    80% {\n",
              "      border-color: transparent;\n",
              "      border-right-color: var(--fill-color);\n",
              "      border-bottom-color: var(--fill-color);\n",
              "    }\n",
              "    90% {\n",
              "      border-color: transparent;\n",
              "      border-bottom-color: var(--fill-color);\n",
              "    }\n",
              "  }\n",
              "</style>\n",
              "\n",
              "  <script>\n",
              "    async function quickchart(key) {\n",
              "      const quickchartButtonEl =\n",
              "        document.querySelector('#' + key + ' button');\n",
              "      quickchartButtonEl.disabled = true;  // To prevent multiple clicks.\n",
              "      quickchartButtonEl.classList.add('colab-df-spinner');\n",
              "      try {\n",
              "        const charts = await google.colab.kernel.invokeFunction(\n",
              "            'suggestCharts', [key], {});\n",
              "      } catch (error) {\n",
              "        console.error('Error during call to suggestCharts:', error);\n",
              "      }\n",
              "      quickchartButtonEl.classList.remove('colab-df-spinner');\n",
              "      quickchartButtonEl.classList.add('colab-df-quickchart-complete');\n",
              "    }\n",
              "    (() => {\n",
              "      let quickchartButtonEl =\n",
              "        document.querySelector('#df-ae9dd380-5277-4a83-ba64-20143a1a3f4c button');\n",
              "      quickchartButtonEl.style.display =\n",
              "        google.colab.kernel.accessAllowed ? 'block' : 'none';\n",
              "    })();\n",
              "  </script>\n",
              "</div>\n",
              "    </div>\n",
              "  </div>\n"
            ]
          },
          "metadata": {},
          "execution_count": 180
        }
      ]
    },
    {
      "cell_type": "code",
      "source": [
        "df.info()"
      ],
      "metadata": {
        "colab": {
          "base_uri": "https://localhost:8080/"
        },
        "id": "t6o3b3OuiaJH",
        "outputId": "3e028ffb-6d4c-4194-a8ee-ec53c13a6f0a"
      },
      "execution_count": 63,
      "outputs": [
        {
          "output_type": "stream",
          "name": "stdout",
          "text": [
            "<class 'pandas.core.frame.DataFrame'>\n",
            "RangeIndex: 106 entries, 0 to 105\n",
            "Data columns (total 18 columns):\n",
            " #   Column                        Non-Null Count  Dtype \n",
            "---  ------                        --------------  ----- \n",
            " 0   Date received                 106 non-null    object\n",
            " 1   Product                       106 non-null    object\n",
            " 2   Sub-product                   75 non-null     object\n",
            " 3   Issue                         106 non-null    object\n",
            " 4   Sub-issue                     60 non-null     object\n",
            " 5   Consumer complaint narrative  106 non-null    object\n",
            " 6   Company public response       54 non-null     object\n",
            " 7   Company                       106 non-null    object\n",
            " 8   State                         106 non-null    object\n",
            " 9   ZIP code                      106 non-null    object\n",
            " 10  Tags                          21 non-null     object\n",
            " 11  Consumer consent provided?    106 non-null    object\n",
            " 12  Submitted via                 106 non-null    object\n",
            " 13  Date sent to company          106 non-null    object\n",
            " 14  Company response to consumer  106 non-null    object\n",
            " 15  Timely response?              106 non-null    object\n",
            " 16  Consumer disputed?            99 non-null     object\n",
            " 17  Complaint ID                  106 non-null    int64 \n",
            "dtypes: int64(1), object(17)\n",
            "memory usage: 15.0+ KB\n"
          ]
        }
      ]
    },
    {
      "cell_type": "code",
      "source": [
        "df.Product.value_counts()"
      ],
      "metadata": {
        "colab": {
          "base_uri": "https://localhost:8080/"
        },
        "id": "U1zs4DckimYw",
        "outputId": "1084fde0-7a96-426f-bf1d-fb107a8ad958"
      },
      "execution_count": 64,
      "outputs": [
        {
          "output_type": "execute_result",
          "data": {
            "text/plain": [
              "Debt collection                                                                 28\n",
              "Credit reporting                                                                23\n",
              "Mortgage                                                                        23\n",
              "Credit card                                                                      8\n",
              "Bank account or service                                                          7\n",
              "Student loan                                                                     5\n",
              "Consumer Loan                                                                    4\n",
              "Money transfers                                                                  3\n",
              "Credit reporting, credit repair services, or other personal consumer reports     3\n",
              "Other financial service                                                          1\n",
              "Credit card or prepaid card                                                      1\n",
              "Name: Product, dtype: int64"
            ]
          },
          "metadata": {},
          "execution_count": 64
        }
      ]
    },
    {
      "cell_type": "code",
      "source": [
        "df.loc[df['Product'] == 'Credit reporting', 'Product'] = 'Credit reporting, credit repair services, or other personal consumer reports'\n",
        "df.loc[df['Product'] == 'Credit card', 'Product'] = 'Credit card or prepaid card'\n",
        "df.loc[df['Product'] == 'Payday loan', 'Product'] = 'Payday loan, title loan, or personal loan'\n",
        "df.loc[df['Product'] == 'Virtual currency', 'Product'] = 'Money transfer, virtual currency, or money service'\n",
        "df = df[df.Product != 'Other financial service']"
      ],
      "metadata": {
        "id": "DOeqNdK5io8u"
      },
      "execution_count": 84,
      "outputs": []
    },
    {
      "cell_type": "code",
      "source": [
        "df['Product'].value_counts().sort_values(ascending=False).iplot(kind='bar', yTitle='Number of Complaints',\n",
        "                                                                title='Number complaints in each product')"
      ],
      "metadata": {
        "colab": {
          "base_uri": "https://localhost:8080/",
          "height": 542
        },
        "id": "g8vTvochspJz",
        "outputId": "dc42ab8d-8480-45fe-a723-e1e17d316417"
      },
      "execution_count": 85,
      "outputs": [
        {
          "output_type": "display_data",
          "data": {
            "application/vnd.plotly.v1+json": {
              "data": [
                {
                  "marker": {
                    "color": "rgba(255, 153, 51, 0.6)",
                    "line": {
                      "color": "rgba(255, 153, 51, 1.0)",
                      "width": 1
                    }
                  },
                  "name": "Product",
                  "orientation": "v",
                  "text": "",
                  "x": [
                    "Debt collection",
                    "Credit reporting, credit repair services, or other personal consumer reports",
                    "Mortgage",
                    "Credit card or prepaid card",
                    "Bank account or service",
                    "Student loan",
                    "Consumer Loan",
                    "Money transfers"
                  ],
                  "y": [
                    28,
                    26,
                    23,
                    9,
                    7,
                    5,
                    4,
                    3
                  ],
                  "type": "bar"
                }
              ],
              "layout": {
                "legend": {
                  "bgcolor": "#F5F6F9",
                  "font": {
                    "color": "#4D5663"
                  }
                },
                "paper_bgcolor": "#F5F6F9",
                "plot_bgcolor": "#F5F6F9",
                "template": {
                  "data": {
                    "barpolar": [
                      {
                        "marker": {
                          "line": {
                            "color": "#E5ECF6",
                            "width": 0.5
                          },
                          "pattern": {
                            "fillmode": "overlay",
                            "size": 10,
                            "solidity": 0.2
                          }
                        },
                        "type": "barpolar"
                      }
                    ],
                    "bar": [
                      {
                        "error_x": {
                          "color": "#2a3f5f"
                        },
                        "error_y": {
                          "color": "#2a3f5f"
                        },
                        "marker": {
                          "line": {
                            "color": "#E5ECF6",
                            "width": 0.5
                          },
                          "pattern": {
                            "fillmode": "overlay",
                            "size": 10,
                            "solidity": 0.2
                          }
                        },
                        "type": "bar"
                      }
                    ],
                    "carpet": [
                      {
                        "aaxis": {
                          "endlinecolor": "#2a3f5f",
                          "gridcolor": "white",
                          "linecolor": "white",
                          "minorgridcolor": "white",
                          "startlinecolor": "#2a3f5f"
                        },
                        "baxis": {
                          "endlinecolor": "#2a3f5f",
                          "gridcolor": "white",
                          "linecolor": "white",
                          "minorgridcolor": "white",
                          "startlinecolor": "#2a3f5f"
                        },
                        "type": "carpet"
                      }
                    ],
                    "choropleth": [
                      {
                        "colorbar": {
                          "outlinewidth": 0,
                          "ticks": ""
                        },
                        "type": "choropleth"
                      }
                    ],
                    "contourcarpet": [
                      {
                        "colorbar": {
                          "outlinewidth": 0,
                          "ticks": ""
                        },
                        "type": "contourcarpet"
                      }
                    ],
                    "contour": [
                      {
                        "colorbar": {
                          "outlinewidth": 0,
                          "ticks": ""
                        },
                        "colorscale": [
                          [
                            0,
                            "#0d0887"
                          ],
                          [
                            0.1111111111111111,
                            "#46039f"
                          ],
                          [
                            0.2222222222222222,
                            "#7201a8"
                          ],
                          [
                            0.3333333333333333,
                            "#9c179e"
                          ],
                          [
                            0.4444444444444444,
                            "#bd3786"
                          ],
                          [
                            0.5555555555555556,
                            "#d8576b"
                          ],
                          [
                            0.6666666666666666,
                            "#ed7953"
                          ],
                          [
                            0.7777777777777778,
                            "#fb9f3a"
                          ],
                          [
                            0.8888888888888888,
                            "#fdca26"
                          ],
                          [
                            1,
                            "#f0f921"
                          ]
                        ],
                        "type": "contour"
                      }
                    ],
                    "heatmapgl": [
                      {
                        "colorbar": {
                          "outlinewidth": 0,
                          "ticks": ""
                        },
                        "colorscale": [
                          [
                            0,
                            "#0d0887"
                          ],
                          [
                            0.1111111111111111,
                            "#46039f"
                          ],
                          [
                            0.2222222222222222,
                            "#7201a8"
                          ],
                          [
                            0.3333333333333333,
                            "#9c179e"
                          ],
                          [
                            0.4444444444444444,
                            "#bd3786"
                          ],
                          [
                            0.5555555555555556,
                            "#d8576b"
                          ],
                          [
                            0.6666666666666666,
                            "#ed7953"
                          ],
                          [
                            0.7777777777777778,
                            "#fb9f3a"
                          ],
                          [
                            0.8888888888888888,
                            "#fdca26"
                          ],
                          [
                            1,
                            "#f0f921"
                          ]
                        ],
                        "type": "heatmapgl"
                      }
                    ],
                    "heatmap": [
                      {
                        "colorbar": {
                          "outlinewidth": 0,
                          "ticks": ""
                        },
                        "colorscale": [
                          [
                            0,
                            "#0d0887"
                          ],
                          [
                            0.1111111111111111,
                            "#46039f"
                          ],
                          [
                            0.2222222222222222,
                            "#7201a8"
                          ],
                          [
                            0.3333333333333333,
                            "#9c179e"
                          ],
                          [
                            0.4444444444444444,
                            "#bd3786"
                          ],
                          [
                            0.5555555555555556,
                            "#d8576b"
                          ],
                          [
                            0.6666666666666666,
                            "#ed7953"
                          ],
                          [
                            0.7777777777777778,
                            "#fb9f3a"
                          ],
                          [
                            0.8888888888888888,
                            "#fdca26"
                          ],
                          [
                            1,
                            "#f0f921"
                          ]
                        ],
                        "type": "heatmap"
                      }
                    ],
                    "histogram2dcontour": [
                      {
                        "colorbar": {
                          "outlinewidth": 0,
                          "ticks": ""
                        },
                        "colorscale": [
                          [
                            0,
                            "#0d0887"
                          ],
                          [
                            0.1111111111111111,
                            "#46039f"
                          ],
                          [
                            0.2222222222222222,
                            "#7201a8"
                          ],
                          [
                            0.3333333333333333,
                            "#9c179e"
                          ],
                          [
                            0.4444444444444444,
                            "#bd3786"
                          ],
                          [
                            0.5555555555555556,
                            "#d8576b"
                          ],
                          [
                            0.6666666666666666,
                            "#ed7953"
                          ],
                          [
                            0.7777777777777778,
                            "#fb9f3a"
                          ],
                          [
                            0.8888888888888888,
                            "#fdca26"
                          ],
                          [
                            1,
                            "#f0f921"
                          ]
                        ],
                        "type": "histogram2dcontour"
                      }
                    ],
                    "histogram2d": [
                      {
                        "colorbar": {
                          "outlinewidth": 0,
                          "ticks": ""
                        },
                        "colorscale": [
                          [
                            0,
                            "#0d0887"
                          ],
                          [
                            0.1111111111111111,
                            "#46039f"
                          ],
                          [
                            0.2222222222222222,
                            "#7201a8"
                          ],
                          [
                            0.3333333333333333,
                            "#9c179e"
                          ],
                          [
                            0.4444444444444444,
                            "#bd3786"
                          ],
                          [
                            0.5555555555555556,
                            "#d8576b"
                          ],
                          [
                            0.6666666666666666,
                            "#ed7953"
                          ],
                          [
                            0.7777777777777778,
                            "#fb9f3a"
                          ],
                          [
                            0.8888888888888888,
                            "#fdca26"
                          ],
                          [
                            1,
                            "#f0f921"
                          ]
                        ],
                        "type": "histogram2d"
                      }
                    ],
                    "histogram": [
                      {
                        "marker": {
                          "pattern": {
                            "fillmode": "overlay",
                            "size": 10,
                            "solidity": 0.2
                          }
                        },
                        "type": "histogram"
                      }
                    ],
                    "mesh3d": [
                      {
                        "colorbar": {
                          "outlinewidth": 0,
                          "ticks": ""
                        },
                        "type": "mesh3d"
                      }
                    ],
                    "parcoords": [
                      {
                        "line": {
                          "colorbar": {
                            "outlinewidth": 0,
                            "ticks": ""
                          }
                        },
                        "type": "parcoords"
                      }
                    ],
                    "pie": [
                      {
                        "automargin": true,
                        "type": "pie"
                      }
                    ],
                    "scatter3d": [
                      {
                        "line": {
                          "colorbar": {
                            "outlinewidth": 0,
                            "ticks": ""
                          }
                        },
                        "marker": {
                          "colorbar": {
                            "outlinewidth": 0,
                            "ticks": ""
                          }
                        },
                        "type": "scatter3d"
                      }
                    ],
                    "scattercarpet": [
                      {
                        "marker": {
                          "colorbar": {
                            "outlinewidth": 0,
                            "ticks": ""
                          }
                        },
                        "type": "scattercarpet"
                      }
                    ],
                    "scattergeo": [
                      {
                        "marker": {
                          "colorbar": {
                            "outlinewidth": 0,
                            "ticks": ""
                          }
                        },
                        "type": "scattergeo"
                      }
                    ],
                    "scattergl": [
                      {
                        "marker": {
                          "colorbar": {
                            "outlinewidth": 0,
                            "ticks": ""
                          }
                        },
                        "type": "scattergl"
                      }
                    ],
                    "scattermapbox": [
                      {
                        "marker": {
                          "colorbar": {
                            "outlinewidth": 0,
                            "ticks": ""
                          }
                        },
                        "type": "scattermapbox"
                      }
                    ],
                    "scatterpolargl": [
                      {
                        "marker": {
                          "colorbar": {
                            "outlinewidth": 0,
                            "ticks": ""
                          }
                        },
                        "type": "scatterpolargl"
                      }
                    ],
                    "scatterpolar": [
                      {
                        "marker": {
                          "colorbar": {
                            "outlinewidth": 0,
                            "ticks": ""
                          }
                        },
                        "type": "scatterpolar"
                      }
                    ],
                    "scatter": [
                      {
                        "fillpattern": {
                          "fillmode": "overlay",
                          "size": 10,
                          "solidity": 0.2
                        },
                        "type": "scatter"
                      }
                    ],
                    "scatterternary": [
                      {
                        "marker": {
                          "colorbar": {
                            "outlinewidth": 0,
                            "ticks": ""
                          }
                        },
                        "type": "scatterternary"
                      }
                    ],
                    "surface": [
                      {
                        "colorbar": {
                          "outlinewidth": 0,
                          "ticks": ""
                        },
                        "colorscale": [
                          [
                            0,
                            "#0d0887"
                          ],
                          [
                            0.1111111111111111,
                            "#46039f"
                          ],
                          [
                            0.2222222222222222,
                            "#7201a8"
                          ],
                          [
                            0.3333333333333333,
                            "#9c179e"
                          ],
                          [
                            0.4444444444444444,
                            "#bd3786"
                          ],
                          [
                            0.5555555555555556,
                            "#d8576b"
                          ],
                          [
                            0.6666666666666666,
                            "#ed7953"
                          ],
                          [
                            0.7777777777777778,
                            "#fb9f3a"
                          ],
                          [
                            0.8888888888888888,
                            "#fdca26"
                          ],
                          [
                            1,
                            "#f0f921"
                          ]
                        ],
                        "type": "surface"
                      }
                    ],
                    "table": [
                      {
                        "cells": {
                          "fill": {
                            "color": "#EBF0F8"
                          },
                          "line": {
                            "color": "white"
                          }
                        },
                        "header": {
                          "fill": {
                            "color": "#C8D4E3"
                          },
                          "line": {
                            "color": "white"
                          }
                        },
                        "type": "table"
                      }
                    ]
                  },
                  "layout": {
                    "annotationdefaults": {
                      "arrowcolor": "#2a3f5f",
                      "arrowhead": 0,
                      "arrowwidth": 1
                    },
                    "autotypenumbers": "strict",
                    "coloraxis": {
                      "colorbar": {
                        "outlinewidth": 0,
                        "ticks": ""
                      }
                    },
                    "colorscale": {
                      "diverging": [
                        [
                          0,
                          "#8e0152"
                        ],
                        [
                          0.1,
                          "#c51b7d"
                        ],
                        [
                          0.2,
                          "#de77ae"
                        ],
                        [
                          0.3,
                          "#f1b6da"
                        ],
                        [
                          0.4,
                          "#fde0ef"
                        ],
                        [
                          0.5,
                          "#f7f7f7"
                        ],
                        [
                          0.6,
                          "#e6f5d0"
                        ],
                        [
                          0.7,
                          "#b8e186"
                        ],
                        [
                          0.8,
                          "#7fbc41"
                        ],
                        [
                          0.9,
                          "#4d9221"
                        ],
                        [
                          1,
                          "#276419"
                        ]
                      ],
                      "sequential": [
                        [
                          0,
                          "#0d0887"
                        ],
                        [
                          0.1111111111111111,
                          "#46039f"
                        ],
                        [
                          0.2222222222222222,
                          "#7201a8"
                        ],
                        [
                          0.3333333333333333,
                          "#9c179e"
                        ],
                        [
                          0.4444444444444444,
                          "#bd3786"
                        ],
                        [
                          0.5555555555555556,
                          "#d8576b"
                        ],
                        [
                          0.6666666666666666,
                          "#ed7953"
                        ],
                        [
                          0.7777777777777778,
                          "#fb9f3a"
                        ],
                        [
                          0.8888888888888888,
                          "#fdca26"
                        ],
                        [
                          1,
                          "#f0f921"
                        ]
                      ],
                      "sequentialminus": [
                        [
                          0,
                          "#0d0887"
                        ],
                        [
                          0.1111111111111111,
                          "#46039f"
                        ],
                        [
                          0.2222222222222222,
                          "#7201a8"
                        ],
                        [
                          0.3333333333333333,
                          "#9c179e"
                        ],
                        [
                          0.4444444444444444,
                          "#bd3786"
                        ],
                        [
                          0.5555555555555556,
                          "#d8576b"
                        ],
                        [
                          0.6666666666666666,
                          "#ed7953"
                        ],
                        [
                          0.7777777777777778,
                          "#fb9f3a"
                        ],
                        [
                          0.8888888888888888,
                          "#fdca26"
                        ],
                        [
                          1,
                          "#f0f921"
                        ]
                      ]
                    },
                    "colorway": [
                      "#636efa",
                      "#EF553B",
                      "#00cc96",
                      "#ab63fa",
                      "#FFA15A",
                      "#19d3f3",
                      "#FF6692",
                      "#B6E880",
                      "#FF97FF",
                      "#FECB52"
                    ],
                    "font": {
                      "color": "#2a3f5f"
                    },
                    "geo": {
                      "bgcolor": "white",
                      "lakecolor": "white",
                      "landcolor": "#E5ECF6",
                      "showlakes": true,
                      "showland": true,
                      "subunitcolor": "white"
                    },
                    "hoverlabel": {
                      "align": "left"
                    },
                    "hovermode": "closest",
                    "mapbox": {
                      "style": "light"
                    },
                    "paper_bgcolor": "white",
                    "plot_bgcolor": "#E5ECF6",
                    "polar": {
                      "angularaxis": {
                        "gridcolor": "white",
                        "linecolor": "white",
                        "ticks": ""
                      },
                      "bgcolor": "#E5ECF6",
                      "radialaxis": {
                        "gridcolor": "white",
                        "linecolor": "white",
                        "ticks": ""
                      }
                    },
                    "scene": {
                      "xaxis": {
                        "backgroundcolor": "#E5ECF6",
                        "gridcolor": "white",
                        "gridwidth": 2,
                        "linecolor": "white",
                        "showbackground": true,
                        "ticks": "",
                        "zerolinecolor": "white"
                      },
                      "yaxis": {
                        "backgroundcolor": "#E5ECF6",
                        "gridcolor": "white",
                        "gridwidth": 2,
                        "linecolor": "white",
                        "showbackground": true,
                        "ticks": "",
                        "zerolinecolor": "white"
                      },
                      "zaxis": {
                        "backgroundcolor": "#E5ECF6",
                        "gridcolor": "white",
                        "gridwidth": 2,
                        "linecolor": "white",
                        "showbackground": true,
                        "ticks": "",
                        "zerolinecolor": "white"
                      }
                    },
                    "shapedefaults": {
                      "line": {
                        "color": "#2a3f5f"
                      }
                    },
                    "ternary": {
                      "aaxis": {
                        "gridcolor": "white",
                        "linecolor": "white",
                        "ticks": ""
                      },
                      "baxis": {
                        "gridcolor": "white",
                        "linecolor": "white",
                        "ticks": ""
                      },
                      "bgcolor": "#E5ECF6",
                      "caxis": {
                        "gridcolor": "white",
                        "linecolor": "white",
                        "ticks": ""
                      }
                    },
                    "title": {
                      "x": 0.05
                    },
                    "xaxis": {
                      "automargin": true,
                      "gridcolor": "white",
                      "linecolor": "white",
                      "ticks": "",
                      "title": {
                        "standoff": 15
                      },
                      "zerolinecolor": "white",
                      "zerolinewidth": 2
                    },
                    "yaxis": {
                      "automargin": true,
                      "gridcolor": "white",
                      "linecolor": "white",
                      "ticks": "",
                      "title": {
                        "standoff": 15
                      },
                      "zerolinecolor": "white",
                      "zerolinewidth": 2
                    }
                  }
                },
                "title": {
                  "font": {
                    "color": "#4D5663"
                  },
                  "text": "Number complaints in each product"
                },
                "xaxis": {
                  "gridcolor": "#E1E5ED",
                  "showgrid": true,
                  "tickfont": {
                    "color": "#4D5663"
                  },
                  "title": {
                    "font": {
                      "color": "#4D5663"
                    },
                    "text": ""
                  },
                  "zerolinecolor": "#E1E5ED"
                },
                "yaxis": {
                  "gridcolor": "#E1E5ED",
                  "showgrid": true,
                  "tickfont": {
                    "color": "#4D5663"
                  },
                  "title": {
                    "font": {
                      "color": "#4D5663"
                    },
                    "text": "Number of Complaints"
                  },
                  "zerolinecolor": "#E1E5ED"
                }
              },
              "config": {
                "showLink": true,
                "linkText": "Export to plot.ly",
                "plotlyServerURL": "https://plot.ly"
              }
            },
            "text/html": [
              "<div>                            <div id=\"5c41393f-de83-4640-b336-bc4d8d7959b5\" class=\"plotly-graph-div\" style=\"height:525px; width:100%;\"></div>            <script type=\"text/javascript\">                require([\"plotly\"], function(Plotly) {                    window.PLOTLYENV=window.PLOTLYENV || {};\n",
              "                    window.PLOTLYENV.BASE_URL='https://plot.ly';                                    if (document.getElementById(\"5c41393f-de83-4640-b336-bc4d8d7959b5\")) {                    Plotly.newPlot(                        \"5c41393f-de83-4640-b336-bc4d8d7959b5\",                        [{\"marker\":{\"color\":\"rgba(255, 153, 51, 0.6)\",\"line\":{\"color\":\"rgba(255, 153, 51, 1.0)\",\"width\":1}},\"name\":\"Product\",\"orientation\":\"v\",\"text\":\"\",\"x\":[\"Debt collection\",\"Credit reporting, credit repair services, or other personal consumer reports\",\"Mortgage\",\"Credit card or prepaid card\",\"Bank account or service\",\"Student loan\",\"Consumer Loan\",\"Money transfers\"],\"y\":[28,26,23,9,7,5,4,3],\"type\":\"bar\"}],                        {\"legend\":{\"bgcolor\":\"#F5F6F9\",\"font\":{\"color\":\"#4D5663\"}},\"paper_bgcolor\":\"#F5F6F9\",\"plot_bgcolor\":\"#F5F6F9\",\"template\":{\"data\":{\"barpolar\":[{\"marker\":{\"line\":{\"color\":\"#E5ECF6\",\"width\":0.5},\"pattern\":{\"fillmode\":\"overlay\",\"size\":10,\"solidity\":0.2}},\"type\":\"barpolar\"}],\"bar\":[{\"error_x\":{\"color\":\"#2a3f5f\"},\"error_y\":{\"color\":\"#2a3f5f\"},\"marker\":{\"line\":{\"color\":\"#E5ECF6\",\"width\":0.5},\"pattern\":{\"fillmode\":\"overlay\",\"size\":10,\"solidity\":0.2}},\"type\":\"bar\"}],\"carpet\":[{\"aaxis\":{\"endlinecolor\":\"#2a3f5f\",\"gridcolor\":\"white\",\"linecolor\":\"white\",\"minorgridcolor\":\"white\",\"startlinecolor\":\"#2a3f5f\"},\"baxis\":{\"endlinecolor\":\"#2a3f5f\",\"gridcolor\":\"white\",\"linecolor\":\"white\",\"minorgridcolor\":\"white\",\"startlinecolor\":\"#2a3f5f\"},\"type\":\"carpet\"}],\"choropleth\":[{\"colorbar\":{\"outlinewidth\":0,\"ticks\":\"\"},\"type\":\"choropleth\"}],\"contourcarpet\":[{\"colorbar\":{\"outlinewidth\":0,\"ticks\":\"\"},\"type\":\"contourcarpet\"}],\"contour\":[{\"colorbar\":{\"outlinewidth\":0,\"ticks\":\"\"},\"colorscale\":[[0.0,\"#0d0887\"],[0.1111111111111111,\"#46039f\"],[0.2222222222222222,\"#7201a8\"],[0.3333333333333333,\"#9c179e\"],[0.4444444444444444,\"#bd3786\"],[0.5555555555555556,\"#d8576b\"],[0.6666666666666666,\"#ed7953\"],[0.7777777777777778,\"#fb9f3a\"],[0.8888888888888888,\"#fdca26\"],[1.0,\"#f0f921\"]],\"type\":\"contour\"}],\"heatmapgl\":[{\"colorbar\":{\"outlinewidth\":0,\"ticks\":\"\"},\"colorscale\":[[0.0,\"#0d0887\"],[0.1111111111111111,\"#46039f\"],[0.2222222222222222,\"#7201a8\"],[0.3333333333333333,\"#9c179e\"],[0.4444444444444444,\"#bd3786\"],[0.5555555555555556,\"#d8576b\"],[0.6666666666666666,\"#ed7953\"],[0.7777777777777778,\"#fb9f3a\"],[0.8888888888888888,\"#fdca26\"],[1.0,\"#f0f921\"]],\"type\":\"heatmapgl\"}],\"heatmap\":[{\"colorbar\":{\"outlinewidth\":0,\"ticks\":\"\"},\"colorscale\":[[0.0,\"#0d0887\"],[0.1111111111111111,\"#46039f\"],[0.2222222222222222,\"#7201a8\"],[0.3333333333333333,\"#9c179e\"],[0.4444444444444444,\"#bd3786\"],[0.5555555555555556,\"#d8576b\"],[0.6666666666666666,\"#ed7953\"],[0.7777777777777778,\"#fb9f3a\"],[0.8888888888888888,\"#fdca26\"],[1.0,\"#f0f921\"]],\"type\":\"heatmap\"}],\"histogram2dcontour\":[{\"colorbar\":{\"outlinewidth\":0,\"ticks\":\"\"},\"colorscale\":[[0.0,\"#0d0887\"],[0.1111111111111111,\"#46039f\"],[0.2222222222222222,\"#7201a8\"],[0.3333333333333333,\"#9c179e\"],[0.4444444444444444,\"#bd3786\"],[0.5555555555555556,\"#d8576b\"],[0.6666666666666666,\"#ed7953\"],[0.7777777777777778,\"#fb9f3a\"],[0.8888888888888888,\"#fdca26\"],[1.0,\"#f0f921\"]],\"type\":\"histogram2dcontour\"}],\"histogram2d\":[{\"colorbar\":{\"outlinewidth\":0,\"ticks\":\"\"},\"colorscale\":[[0.0,\"#0d0887\"],[0.1111111111111111,\"#46039f\"],[0.2222222222222222,\"#7201a8\"],[0.3333333333333333,\"#9c179e\"],[0.4444444444444444,\"#bd3786\"],[0.5555555555555556,\"#d8576b\"],[0.6666666666666666,\"#ed7953\"],[0.7777777777777778,\"#fb9f3a\"],[0.8888888888888888,\"#fdca26\"],[1.0,\"#f0f921\"]],\"type\":\"histogram2d\"}],\"histogram\":[{\"marker\":{\"pattern\":{\"fillmode\":\"overlay\",\"size\":10,\"solidity\":0.2}},\"type\":\"histogram\"}],\"mesh3d\":[{\"colorbar\":{\"outlinewidth\":0,\"ticks\":\"\"},\"type\":\"mesh3d\"}],\"parcoords\":[{\"line\":{\"colorbar\":{\"outlinewidth\":0,\"ticks\":\"\"}},\"type\":\"parcoords\"}],\"pie\":[{\"automargin\":true,\"type\":\"pie\"}],\"scatter3d\":[{\"line\":{\"colorbar\":{\"outlinewidth\":0,\"ticks\":\"\"}},\"marker\":{\"colorbar\":{\"outlinewidth\":0,\"ticks\":\"\"}},\"type\":\"scatter3d\"}],\"scattercarpet\":[{\"marker\":{\"colorbar\":{\"outlinewidth\":0,\"ticks\":\"\"}},\"type\":\"scattercarpet\"}],\"scattergeo\":[{\"marker\":{\"colorbar\":{\"outlinewidth\":0,\"ticks\":\"\"}},\"type\":\"scattergeo\"}],\"scattergl\":[{\"marker\":{\"colorbar\":{\"outlinewidth\":0,\"ticks\":\"\"}},\"type\":\"scattergl\"}],\"scattermapbox\":[{\"marker\":{\"colorbar\":{\"outlinewidth\":0,\"ticks\":\"\"}},\"type\":\"scattermapbox\"}],\"scatterpolargl\":[{\"marker\":{\"colorbar\":{\"outlinewidth\":0,\"ticks\":\"\"}},\"type\":\"scatterpolargl\"}],\"scatterpolar\":[{\"marker\":{\"colorbar\":{\"outlinewidth\":0,\"ticks\":\"\"}},\"type\":\"scatterpolar\"}],\"scatter\":[{\"fillpattern\":{\"fillmode\":\"overlay\",\"size\":10,\"solidity\":0.2},\"type\":\"scatter\"}],\"scatterternary\":[{\"marker\":{\"colorbar\":{\"outlinewidth\":0,\"ticks\":\"\"}},\"type\":\"scatterternary\"}],\"surface\":[{\"colorbar\":{\"outlinewidth\":0,\"ticks\":\"\"},\"colorscale\":[[0.0,\"#0d0887\"],[0.1111111111111111,\"#46039f\"],[0.2222222222222222,\"#7201a8\"],[0.3333333333333333,\"#9c179e\"],[0.4444444444444444,\"#bd3786\"],[0.5555555555555556,\"#d8576b\"],[0.6666666666666666,\"#ed7953\"],[0.7777777777777778,\"#fb9f3a\"],[0.8888888888888888,\"#fdca26\"],[1.0,\"#f0f921\"]],\"type\":\"surface\"}],\"table\":[{\"cells\":{\"fill\":{\"color\":\"#EBF0F8\"},\"line\":{\"color\":\"white\"}},\"header\":{\"fill\":{\"color\":\"#C8D4E3\"},\"line\":{\"color\":\"white\"}},\"type\":\"table\"}]},\"layout\":{\"annotationdefaults\":{\"arrowcolor\":\"#2a3f5f\",\"arrowhead\":0,\"arrowwidth\":1},\"autotypenumbers\":\"strict\",\"coloraxis\":{\"colorbar\":{\"outlinewidth\":0,\"ticks\":\"\"}},\"colorscale\":{\"diverging\":[[0,\"#8e0152\"],[0.1,\"#c51b7d\"],[0.2,\"#de77ae\"],[0.3,\"#f1b6da\"],[0.4,\"#fde0ef\"],[0.5,\"#f7f7f7\"],[0.6,\"#e6f5d0\"],[0.7,\"#b8e186\"],[0.8,\"#7fbc41\"],[0.9,\"#4d9221\"],[1,\"#276419\"]],\"sequential\":[[0.0,\"#0d0887\"],[0.1111111111111111,\"#46039f\"],[0.2222222222222222,\"#7201a8\"],[0.3333333333333333,\"#9c179e\"],[0.4444444444444444,\"#bd3786\"],[0.5555555555555556,\"#d8576b\"],[0.6666666666666666,\"#ed7953\"],[0.7777777777777778,\"#fb9f3a\"],[0.8888888888888888,\"#fdca26\"],[1.0,\"#f0f921\"]],\"sequentialminus\":[[0.0,\"#0d0887\"],[0.1111111111111111,\"#46039f\"],[0.2222222222222222,\"#7201a8\"],[0.3333333333333333,\"#9c179e\"],[0.4444444444444444,\"#bd3786\"],[0.5555555555555556,\"#d8576b\"],[0.6666666666666666,\"#ed7953\"],[0.7777777777777778,\"#fb9f3a\"],[0.8888888888888888,\"#fdca26\"],[1.0,\"#f0f921\"]]},\"colorway\":[\"#636efa\",\"#EF553B\",\"#00cc96\",\"#ab63fa\",\"#FFA15A\",\"#19d3f3\",\"#FF6692\",\"#B6E880\",\"#FF97FF\",\"#FECB52\"],\"font\":{\"color\":\"#2a3f5f\"},\"geo\":{\"bgcolor\":\"white\",\"lakecolor\":\"white\",\"landcolor\":\"#E5ECF6\",\"showlakes\":true,\"showland\":true,\"subunitcolor\":\"white\"},\"hoverlabel\":{\"align\":\"left\"},\"hovermode\":\"closest\",\"mapbox\":{\"style\":\"light\"},\"paper_bgcolor\":\"white\",\"plot_bgcolor\":\"#E5ECF6\",\"polar\":{\"angularaxis\":{\"gridcolor\":\"white\",\"linecolor\":\"white\",\"ticks\":\"\"},\"bgcolor\":\"#E5ECF6\",\"radialaxis\":{\"gridcolor\":\"white\",\"linecolor\":\"white\",\"ticks\":\"\"}},\"scene\":{\"xaxis\":{\"backgroundcolor\":\"#E5ECF6\",\"gridcolor\":\"white\",\"gridwidth\":2,\"linecolor\":\"white\",\"showbackground\":true,\"ticks\":\"\",\"zerolinecolor\":\"white\"},\"yaxis\":{\"backgroundcolor\":\"#E5ECF6\",\"gridcolor\":\"white\",\"gridwidth\":2,\"linecolor\":\"white\",\"showbackground\":true,\"ticks\":\"\",\"zerolinecolor\":\"white\"},\"zaxis\":{\"backgroundcolor\":\"#E5ECF6\",\"gridcolor\":\"white\",\"gridwidth\":2,\"linecolor\":\"white\",\"showbackground\":true,\"ticks\":\"\",\"zerolinecolor\":\"white\"}},\"shapedefaults\":{\"line\":{\"color\":\"#2a3f5f\"}},\"ternary\":{\"aaxis\":{\"gridcolor\":\"white\",\"linecolor\":\"white\",\"ticks\":\"\"},\"baxis\":{\"gridcolor\":\"white\",\"linecolor\":\"white\",\"ticks\":\"\"},\"bgcolor\":\"#E5ECF6\",\"caxis\":{\"gridcolor\":\"white\",\"linecolor\":\"white\",\"ticks\":\"\"}},\"title\":{\"x\":0.05},\"xaxis\":{\"automargin\":true,\"gridcolor\":\"white\",\"linecolor\":\"white\",\"ticks\":\"\",\"title\":{\"standoff\":15},\"zerolinecolor\":\"white\",\"zerolinewidth\":2},\"yaxis\":{\"automargin\":true,\"gridcolor\":\"white\",\"linecolor\":\"white\",\"ticks\":\"\",\"title\":{\"standoff\":15},\"zerolinecolor\":\"white\",\"zerolinewidth\":2}}},\"title\":{\"font\":{\"color\":\"#4D5663\"},\"text\":\"Number complaints in each product\"},\"xaxis\":{\"gridcolor\":\"#E1E5ED\",\"showgrid\":true,\"tickfont\":{\"color\":\"#4D5663\"},\"title\":{\"font\":{\"color\":\"#4D5663\"},\"text\":\"\"},\"zerolinecolor\":\"#E1E5ED\"},\"yaxis\":{\"gridcolor\":\"#E1E5ED\",\"showgrid\":true,\"tickfont\":{\"color\":\"#4D5663\"},\"title\":{\"font\":{\"color\":\"#4D5663\"},\"text\":\"Number of Complaints\"},\"zerolinecolor\":\"#E1E5ED\"}},                        {\"showLink\": true, \"linkText\": \"Export to plot.ly\", \"plotlyServerURL\": \"https://plot.ly\", \"responsive\": true}                    ).then(function(){\n",
              "                            \n",
              "var gd = document.getElementById('5c41393f-de83-4640-b336-bc4d8d7959b5');\n",
              "var x = new MutationObserver(function (mutations, observer) {{\n",
              "        var display = window.getComputedStyle(gd).display;\n",
              "        if (!display || display === 'none') {{\n",
              "            console.log([gd, 'removed!']);\n",
              "            Plotly.purge(gd);\n",
              "            observer.disconnect();\n",
              "        }}\n",
              "}});\n",
              "\n",
              "// Listen for the removal of the full notebook cells\n",
              "var notebookContainer = gd.closest('#notebook-container');\n",
              "if (notebookContainer) {{\n",
              "    x.observe(notebookContainer, {childList: true});\n",
              "}}\n",
              "\n",
              "// Listen for the clearing of the current output cell\n",
              "var outputEl = gd.closest('.output');\n",
              "if (outputEl) {{\n",
              "    x.observe(outputEl, {childList: true});\n",
              "}}\n",
              "\n",
              "                        })                };                });            </script>        </div>"
            ]
          },
          "metadata": {}
        }
      ]
    },
    {
      "cell_type": "code",
      "source": [
        "def print_plot(index):\n",
        "    example = df[df.index == index][['Consumer complaint narrative', 'Product']].values[0]\n",
        "    if len(example) > 0:\n",
        "        print(example[0])\n",
        "        print('Product:', example[1])"
      ],
      "metadata": {
        "id": "Wlbny06LiwY6"
      },
      "execution_count": 86,
      "outputs": []
    },
    {
      "cell_type": "code",
      "source": [
        "print_plot(99)"
      ],
      "metadata": {
        "colab": {
          "base_uri": "https://localhost:8080/"
        },
        "id": "e75SsVX_jM4t",
        "outputId": "9593a99e-6d67-4355-e395-e8a6f03bcbd3"
      },
      "execution_count": 87,
      "outputs": [
        {
          "output_type": "stream",
          "name": "stdout",
          "text": [
            "three months ago disputed bankruptcy lien information listed credit report equifa listed verified provided actual validation verified source effectively new consumer bill propose changes credit reporting scoring specific information required determined accuracy reported reaching county clerk record county regarding information credit report process verified public inspection working hours special provisions made reporting agencies would like concrete proof liens bankruptcies indeed accounts mine promptly remove\n",
            "Product: Credit reporting, credit repair services, or other personal consumer reports\n"
          ]
        }
      ]
    },
    {
      "cell_type": "markdown",
      "source": [
        "##Pre-processing dataset"
      ],
      "metadata": {
        "id": "-r8Wc8D66cm6"
      }
    },
    {
      "cell_type": "code",
      "source": [
        "df = df.reset_index(drop=True)\n",
        "REPLACE_BY_SPACE_RE = re.compile('[/(){}\\[\\]\\|@,;]')\n",
        "BAD_SYMBOLS_RE = re.compile('[^0-9a-z #+_]')\n",
        "STOPWORDS = set(stopwords.words('english'))\n",
        "\n",
        "def clean_text(text):\n",
        "    \"\"\"\n",
        "        text: a string\n",
        "\n",
        "        return: modified initial string\n",
        "    \"\"\"\n",
        "    text = text.lower() # lowercase text\n",
        "    text = REPLACE_BY_SPACE_RE.sub(' ', text) # replace REPLACE_BY_SPACE_RE symbols by space in text. substitute the matched string in REPLACE_BY_SPACE_RE with space.\n",
        "    text = BAD_SYMBOLS_RE.sub('', text) # remove symbols which are in BAD_SYMBOLS_RE from text. substitute the matched string in BAD_SYMBOLS_RE with nothing.\n",
        "    text = text.replace('x', '')\n",
        "#    text = re.sub(r'\\W+', '', text)\n",
        "    text = ' '.join(word for word in text.split() if word not in STOPWORDS) # remove stopwors from text\n",
        "    return text\n",
        "df['Consumer complaint narrative'] = df['Consumer complaint narrative'].apply(clean_text)"
      ],
      "metadata": {
        "id": "4s6qGlrijQyB"
      },
      "execution_count": 88,
      "outputs": []
    },
    {
      "cell_type": "code",
      "source": [
        "df['Consumer complaint narrative'] = df['Consumer complaint narrative'].str.replace('\\d+', '')"
      ],
      "metadata": {
        "colab": {
          "base_uri": "https://localhost:8080/"
        },
        "id": "pn41ftw95Byi",
        "outputId": "3a8e88cb-fa7f-4538-dfdf-bf21729ad47d"
      },
      "execution_count": 89,
      "outputs": [
        {
          "output_type": "stream",
          "name": "stderr",
          "text": [
            "<ipython-input-89-40704303c81a>:1: FutureWarning:\n",
            "\n",
            "The default value of regex will change from True to False in a future version.\n",
            "\n"
          ]
        }
      ]
    },
    {
      "cell_type": "code",
      "source": [
        "print_plot(99)"
      ],
      "metadata": {
        "colab": {
          "base_uri": "https://localhost:8080/"
        },
        "id": "nGtoJUnS5EgI",
        "outputId": "6fe15596-525c-4722-88cb-f96e856dbf11"
      },
      "execution_count": 90,
      "outputs": [
        {
          "output_type": "stream",
          "name": "stdout",
          "text": [
            "three months ago disputed bankruptcy lien information listed credit report equifa listed verified provided actual validation verified source effectively new consumer bill propose changes credit reporting scoring specific information required determined accuracy reported reaching county clerk record county regarding information credit report process verified public inspection working hours special provisions made reporting agencies would like concrete proof liens bankruptcies indeed accounts mine promptly remove\n",
            "Product: Credit reporting, credit repair services, or other personal consumer reports\n"
          ]
        }
      ]
    },
    {
      "cell_type": "markdown",
      "source": [
        "### Tokenization"
      ],
      "metadata": {
        "id": "vKkJKK9L54Fk"
      }
    },
    {
      "cell_type": "markdown",
      "source": [
        "Tokenization is the process of splitting text to individual elements (character, word, sentence, etc).\n",
        "\n",
        "The result of Tokenizer is then used to convert to integer sequences using texts_to_sequences.\n",
        "\n",
        "On the other hand tf.keras.layers.TextVectorization converts the text to integer sequences."
      ],
      "metadata": {
        "id": "jA7bHUfW7VYb"
      }
    },
    {
      "cell_type": "markdown",
      "source": [
        "#### Word embedding"
      ],
      "metadata": {
        "id": "Pm69eGNO7SDb"
      }
    },
    {
      "cell_type": "code",
      "source": [
        "# The maximum number of words to be used. (most frequent)\n",
        "MAX_NB_WORDS = 50000\n",
        "# Max number of words in each complaint.\n",
        "MAX_SEQUENCE_LENGTH = 250\n",
        "# This is fixed.\n",
        "EMBEDDING_DIM = 100\n",
        "\n",
        "tokenizer = Tokenizer(num_words=MAX_NB_WORDS, filters='!\"#$%&()*+,-./:;<=>?@[\\]^_`{|}~', lower=True)\n",
        "tokenizer.fit_on_texts(df['Consumer complaint narrative'].values)\n",
        "word_index = tokenizer.word_index\n",
        "print('Found %s unique tokens.' % len(word_index))\n",
        "\n",
        "\n"
      ],
      "metadata": {
        "colab": {
          "base_uri": "https://localhost:8080/"
        },
        "id": "-qjTJlH05IJu",
        "outputId": "60bd94d3-0965-4308-fdc9-0b766dd0eb48"
      },
      "execution_count": 122,
      "outputs": [
        {
          "output_type": "stream",
          "name": "stdout",
          "text": [
            "Found 2157 unique tokens.\n"
          ]
        }
      ]
    },
    {
      "cell_type": "code",
      "source": [
        "X = tokenizer.texts_to_sequences(df['Consumer complaint narrative'].values)\n",
        "X = pad_sequences(X, maxlen=MAX_SEQUENCE_LENGTH)\n",
        "print('Shape of data tensor:', X.shape)"
      ],
      "metadata": {
        "colab": {
          "base_uri": "https://localhost:8080/"
        },
        "id": "x3N9cxe65vMH",
        "outputId": "e8505d6d-7cfe-43aa-c022-69f179bdaf92"
      },
      "execution_count": 123,
      "outputs": [
        {
          "output_type": "stream",
          "name": "stdout",
          "text": [
            "Shape of data tensor: (105, 250)\n"
          ]
        }
      ]
    },
    {
      "cell_type": "code",
      "source": [
        "Y = pd.get_dummies(df['Product']).values\n",
        "print('Shape of label tensor:', Y.shape)"
      ],
      "metadata": {
        "colab": {
          "base_uri": "https://localhost:8080/"
        },
        "id": "JWjqfxgg56Uz",
        "outputId": "87e13262-4123-4806-bde3-241405eb725c"
      },
      "execution_count": 124,
      "outputs": [
        {
          "output_type": "stream",
          "name": "stdout",
          "text": [
            "Shape of label tensor: (105, 8)\n"
          ]
        }
      ]
    },
    {
      "cell_type": "markdown",
      "source": [
        "### Split data"
      ],
      "metadata": {
        "id": "VxBpwU3g6mDy"
      }
    },
    {
      "cell_type": "code",
      "source": [
        "X_train, X_test, Y_train, Y_test = train_test_split(X,Y, test_size = 0.10, random_state = 42)\n",
        "print(X_train.shape,Y_train.shape)\n",
        "print(X_test.shape,Y_test.shape)"
      ],
      "metadata": {
        "colab": {
          "base_uri": "https://localhost:8080/"
        },
        "id": "KxRq5YIy5-Ka",
        "outputId": "b440b3f0-63b9-42d1-eefc-492484d597d2"
      },
      "execution_count": 125,
      "outputs": [
        {
          "output_type": "stream",
          "name": "stdout",
          "text": [
            "(94, 250) (94, 8)\n",
            "(11, 250) (11, 8)\n"
          ]
        }
      ]
    },
    {
      "cell_type": "markdown",
      "source": [
        "## Model Creation"
      ],
      "metadata": {
        "id": "mB7kJLNX7qtz"
      }
    },
    {
      "cell_type": "markdown",
      "source": [
        "### Baseline"
      ],
      "metadata": {
        "id": "dUTO3AAOBgMp"
      }
    },
    {
      "cell_type": "code",
      "source": [
        "# Create model\n",
        "model = Sequential()\n",
        "model.add(Embedding(MAX_NB_WORDS, EMBEDDING_DIM, input_length=X.shape[1]))\n",
        "model.add(Dense(100, activation='relu'))\n",
        "model.add(Dropout(0.2))\n",
        "model.add(Dense(8, activation='softmax'))\n",
        "model.add(GlobalAveragePooling1D())\n",
        "\n",
        "#Compile\n",
        "model.compile(loss='categorical_crossentropy', optimizer='adam', metrics=['accuracy'])\n",
        "\n",
        "#Fit\n",
        "epochs = 50\n",
        "batch_size = 64\n",
        "\n",
        "history = model.fit(X_train,\n",
        "                    Y_train,\n",
        "                    epochs=epochs,\n",
        "                    validation_data=(X_test,Y_test))\n",
        "\n",
        "\n"
      ],
      "metadata": {
        "colab": {
          "base_uri": "https://localhost:8080/"
        },
        "id": "x8nToVhsAF6x",
        "outputId": "aff5a6ee-b390-4ae7-c336-39c2b3950910"
      },
      "execution_count": 159,
      "outputs": [
        {
          "output_type": "stream",
          "name": "stdout",
          "text": [
            "Epoch 1/50\n",
            "3/3 [==============================] - 2s 308ms/step - loss: 2.0746 - accuracy: 0.1915 - val_loss: 2.0631 - val_accuracy: 0.2727\n",
            "Epoch 2/50\n",
            "3/3 [==============================] - 1s 192ms/step - loss: 2.0504 - accuracy: 0.3191 - val_loss: 2.0525 - val_accuracy: 0.2727\n",
            "Epoch 3/50\n",
            "3/3 [==============================] - 1s 197ms/step - loss: 2.0300 - accuracy: 0.2979 - val_loss: 2.0423 - val_accuracy: 0.2727\n",
            "Epoch 4/50\n",
            "3/3 [==============================] - 1s 221ms/step - loss: 2.0104 - accuracy: 0.3298 - val_loss: 2.0303 - val_accuracy: 0.2727\n",
            "Epoch 5/50\n",
            "3/3 [==============================] - 1s 191ms/step - loss: 1.9883 - accuracy: 0.3298 - val_loss: 2.0177 - val_accuracy: 0.2727\n",
            "Epoch 6/50\n",
            "3/3 [==============================] - 0s 123ms/step - loss: 1.9635 - accuracy: 0.3404 - val_loss: 2.0052 - val_accuracy: 0.2727\n",
            "Epoch 7/50\n",
            "3/3 [==============================] - 1s 374ms/step - loss: 1.9386 - accuracy: 0.3404 - val_loss: 1.9920 - val_accuracy: 0.1818\n",
            "Epoch 8/50\n",
            "3/3 [==============================] - 1s 198ms/step - loss: 1.9095 - accuracy: 0.3404 - val_loss: 1.9799 - val_accuracy: 0.1818\n",
            "Epoch 9/50\n",
            "3/3 [==============================] - 1s 253ms/step - loss: 1.8809 - accuracy: 0.3404 - val_loss: 1.9702 - val_accuracy: 0.1818\n",
            "Epoch 10/50\n",
            "3/3 [==============================] - 1s 217ms/step - loss: 1.8481 - accuracy: 0.3404 - val_loss: 1.9639 - val_accuracy: 0.1818\n",
            "Epoch 11/50\n",
            "3/3 [==============================] - 1s 220ms/step - loss: 1.8183 - accuracy: 0.3404 - val_loss: 1.9597 - val_accuracy: 0.1818\n",
            "Epoch 12/50\n",
            "3/3 [==============================] - 1s 225ms/step - loss: 1.7863 - accuracy: 0.3404 - val_loss: 1.9602 - val_accuracy: 0.1818\n",
            "Epoch 13/50\n",
            "3/3 [==============================] - 1s 220ms/step - loss: 1.7573 - accuracy: 0.3404 - val_loss: 1.9669 - val_accuracy: 0.1818\n",
            "Epoch 14/50\n",
            "3/3 [==============================] - 0s 219ms/step - loss: 1.7293 - accuracy: 0.3404 - val_loss: 1.9798 - val_accuracy: 0.1818\n",
            "Epoch 15/50\n",
            "3/3 [==============================] - 1s 216ms/step - loss: 1.7082 - accuracy: 0.3404 - val_loss: 1.9977 - val_accuracy: 0.1818\n",
            "Epoch 16/50\n",
            "3/3 [==============================] - 1s 227ms/step - loss: 1.6867 - accuracy: 0.3511 - val_loss: 2.0160 - val_accuracy: 0.1818\n",
            "Epoch 17/50\n",
            "3/3 [==============================] - 0s 213ms/step - loss: 1.6676 - accuracy: 0.3723 - val_loss: 2.0344 - val_accuracy: 0.1818\n",
            "Epoch 18/50\n",
            "3/3 [==============================] - 1s 218ms/step - loss: 1.6542 - accuracy: 0.4149 - val_loss: 2.0536 - val_accuracy: 0.2727\n",
            "Epoch 19/50\n",
            "3/3 [==============================] - 0s 123ms/step - loss: 1.6395 - accuracy: 0.4574 - val_loss: 2.0710 - val_accuracy: 0.2727\n",
            "Epoch 20/50\n",
            "3/3 [==============================] - 0s 128ms/step - loss: 1.6270 - accuracy: 0.5319 - val_loss: 2.0848 - val_accuracy: 0.2727\n",
            "Epoch 21/50\n",
            "3/3 [==============================] - 0s 120ms/step - loss: 1.6135 - accuracy: 0.3830 - val_loss: 2.0964 - val_accuracy: 0.1818\n",
            "Epoch 22/50\n",
            "3/3 [==============================] - 0s 21ms/step - loss: 1.5992 - accuracy: 0.3298 - val_loss: 2.0961 - val_accuracy: 0.1818\n",
            "Epoch 23/50\n",
            "3/3 [==============================] - 0s 195ms/step - loss: 1.5853 - accuracy: 0.3298 - val_loss: 2.0973 - val_accuracy: 0.1818\n",
            "Epoch 24/50\n",
            "3/3 [==============================] - 1s 198ms/step - loss: 1.5700 - accuracy: 0.4043 - val_loss: 2.0993 - val_accuracy: 0.2727\n",
            "Epoch 25/50\n",
            "3/3 [==============================] - 1s 220ms/step - loss: 1.5522 - accuracy: 0.4681 - val_loss: 2.0986 - val_accuracy: 0.1818\n",
            "Epoch 26/50\n",
            "3/3 [==============================] - 0s 21ms/step - loss: 1.5339 - accuracy: 0.3936 - val_loss: 2.0960 - val_accuracy: 0.1818\n",
            "Epoch 27/50\n",
            "3/3 [==============================] - 1s 197ms/step - loss: 1.5180 - accuracy: 0.4149 - val_loss: 2.0962 - val_accuracy: 0.1818\n",
            "Epoch 28/50\n",
            "3/3 [==============================] - 1s 212ms/step - loss: 1.4973 - accuracy: 0.4681 - val_loss: 2.0946 - val_accuracy: 0.3636\n",
            "Epoch 29/50\n",
            "3/3 [==============================] - 1s 376ms/step - loss: 1.4805 - accuracy: 0.6170 - val_loss: 2.1007 - val_accuracy: 0.3636\n",
            "Epoch 30/50\n",
            "3/3 [==============================] - 1s 359ms/step - loss: 1.4600 - accuracy: 0.5851 - val_loss: 2.1007 - val_accuracy: 0.3636\n",
            "Epoch 31/50\n",
            "3/3 [==============================] - 0s 225ms/step - loss: 1.4412 - accuracy: 0.5851 - val_loss: 2.1045 - val_accuracy: 0.3636\n",
            "Epoch 32/50\n",
            "3/3 [==============================] - 0s 121ms/step - loss: 1.4199 - accuracy: 0.5957 - val_loss: 2.1036 - val_accuracy: 0.3636\n",
            "Epoch 33/50\n",
            "3/3 [==============================] - 0s 93ms/step - loss: 1.3988 - accuracy: 0.5851 - val_loss: 2.1034 - val_accuracy: 0.3636\n",
            "Epoch 34/50\n",
            "3/3 [==============================] - 0s 119ms/step - loss: 1.3791 - accuracy: 0.6383 - val_loss: 2.1090 - val_accuracy: 0.3636\n",
            "Epoch 35/50\n",
            "3/3 [==============================] - 0s 121ms/step - loss: 1.3596 - accuracy: 0.6277 - val_loss: 2.1116 - val_accuracy: 0.3636\n",
            "Epoch 36/50\n",
            "3/3 [==============================] - 0s 123ms/step - loss: 1.3376 - accuracy: 0.6277 - val_loss: 2.1129 - val_accuracy: 0.3636\n",
            "Epoch 37/50\n",
            "3/3 [==============================] - 1s 217ms/step - loss: 1.3183 - accuracy: 0.6383 - val_loss: 2.1186 - val_accuracy: 0.3636\n",
            "Epoch 38/50\n",
            "3/3 [==============================] - 1s 221ms/step - loss: 1.2995 - accuracy: 0.6383 - val_loss: 2.1225 - val_accuracy: 0.3636\n",
            "Epoch 39/50\n",
            "3/3 [==============================] - 0s 123ms/step - loss: 1.2820 - accuracy: 0.6489 - val_loss: 2.1208 - val_accuracy: 0.3636\n",
            "Epoch 40/50\n",
            "3/3 [==============================] - 1s 218ms/step - loss: 1.2650 - accuracy: 0.6596 - val_loss: 2.1274 - val_accuracy: 0.3636\n",
            "Epoch 41/50\n",
            "3/3 [==============================] - 1s 222ms/step - loss: 1.2501 - accuracy: 0.6277 - val_loss: 2.1207 - val_accuracy: 0.3636\n",
            "Epoch 42/50\n",
            "3/3 [==============================] - 0s 119ms/step - loss: 1.2321 - accuracy: 0.6170 - val_loss: 2.1203 - val_accuracy: 0.3636\n",
            "Epoch 43/50\n",
            "3/3 [==============================] - 0s 128ms/step - loss: 1.2202 - accuracy: 0.5957 - val_loss: 2.1202 - val_accuracy: 0.3636\n",
            "Epoch 44/50\n",
            "3/3 [==============================] - 1s 218ms/step - loss: 1.2083 - accuracy: 0.6064 - val_loss: 2.1187 - val_accuracy: 0.3636\n",
            "Epoch 45/50\n",
            "3/3 [==============================] - 0s 226ms/step - loss: 1.1953 - accuracy: 0.6170 - val_loss: 2.1172 - val_accuracy: 0.3636\n",
            "Epoch 46/50\n",
            "3/3 [==============================] - 0s 122ms/step - loss: 1.1813 - accuracy: 0.6064 - val_loss: 2.1180 - val_accuracy: 0.3636\n",
            "Epoch 47/50\n",
            "3/3 [==============================] - 1s 227ms/step - loss: 1.1726 - accuracy: 0.6170 - val_loss: 2.1183 - val_accuracy: 0.3636\n",
            "Epoch 48/50\n",
            "3/3 [==============================] - 0s 129ms/step - loss: 1.1649 - accuracy: 0.6277 - val_loss: 2.1152 - val_accuracy: 0.3636\n",
            "Epoch 49/50\n",
            "3/3 [==============================] - 1s 222ms/step - loss: 1.1556 - accuracy: 0.6489 - val_loss: 2.1181 - val_accuracy: 0.3636\n",
            "Epoch 50/50\n",
            "3/3 [==============================] - 0s 119ms/step - loss: 1.1479 - accuracy: 0.6809 - val_loss: 2.1164 - val_accuracy: 0.3636\n"
          ]
        }
      ]
    },
    {
      "cell_type": "code",
      "source": [
        "model.summary()"
      ],
      "metadata": {
        "colab": {
          "base_uri": "https://localhost:8080/"
        },
        "id": "WU57bMXtBQzs",
        "outputId": "24560664-16fe-4315-cb80-3c876e9279c4"
      },
      "execution_count": 137,
      "outputs": [
        {
          "output_type": "stream",
          "name": "stdout",
          "text": [
            "Model: \"sequential_21\"\n",
            "_________________________________________________________________\n",
            " Layer (type)                Output Shape              Param #   \n",
            "=================================================================\n",
            " embedding_21 (Embedding)    (None, 250, 100)          5000000   \n",
            "                                                                 \n",
            " dense_29 (Dense)            (None, 250, 100)          10100     \n",
            "                                                                 \n",
            " dropout_1 (Dropout)         (None, 250, 100)          0         \n",
            "                                                                 \n",
            " dense_30 (Dense)            (None, 250, 8)            808       \n",
            "                                                                 \n",
            " global_average_pooling1d_3  (None, 8)                 0         \n",
            "  (GlobalAveragePooling1D)                                       \n",
            "                                                                 \n",
            "=================================================================\n",
            "Total params: 5010908 (19.12 MB)\n",
            "Trainable params: 5010908 (19.12 MB)\n",
            "Non-trainable params: 0 (0.00 Byte)\n",
            "_________________________________________________________________\n"
          ]
        }
      ]
    },
    {
      "cell_type": "code",
      "source": [
        "# Model performance on test data\n",
        "model.evaluate(X_test, Y_test)"
      ],
      "metadata": {
        "colab": {
          "base_uri": "https://localhost:8080/"
        },
        "id": "L5F84X3iBKnO",
        "outputId": "bdce7e43-7ab7-4417-e757-85817e1ed518"
      },
      "execution_count": 164,
      "outputs": [
        {
          "output_type": "stream",
          "name": "stdout",
          "text": [
            "1/1 [==============================] - 0s 25ms/step - loss: 2.1164 - accuracy: 0.3636\n"
          ]
        },
        {
          "output_type": "execute_result",
          "data": {
            "text/plain": [
              "[2.1163535118103027, 0.3636363744735718]"
            ]
          },
          "metadata": {},
          "execution_count": 164
        }
      ]
    },
    {
      "cell_type": "code",
      "source": [
        "model.save(\"model.h5\")"
      ],
      "metadata": {
        "colab": {
          "base_uri": "https://localhost:8080/"
        },
        "id": "lJ-Of4oLBTgL",
        "outputId": "6c2da28c-91c7-4598-ddfd-3ec7099b76ac"
      },
      "execution_count": 142,
      "outputs": [
        {
          "output_type": "stream",
          "name": "stderr",
          "text": [
            "/usr/local/lib/python3.10/dist-packages/keras/src/engine/training.py:3000: UserWarning:\n",
            "\n",
            "You are saving your model as an HDF5 file via `model.save()`. This file format is considered legacy. We recommend using instead the native Keras format, e.g. `model.save('my_model.keras')`.\n",
            "\n"
          ]
        }
      ]
    },
    {
      "cell_type": "markdown",
      "source": [
        "### LSTM"
      ],
      "metadata": {
        "id": "AYX1gBLoBc7n"
      }
    },
    {
      "cell_type": "markdown",
      "source": [
        "* The first layer is the embedded layer that uses 100 length vectors to represent each word.\n",
        "* SpatialDropout1D performs variational dropout in NLP models.\n",
        "* The next layer is the LSTM layer with 100 memory units.\n",
        "* The output layer must create 13 output values, one for each class.\n",
        "* Activation function is softmax for multi-class classification.\n",
        "* Because it is a multi-class classification problem, categorical_crossentropy is used as the loss function."
      ],
      "metadata": {
        "id": "3zEg1leEBvUb"
      }
    },
    {
      "cell_type": "code",
      "source": [
        "# Create model\n",
        "model1 = Sequential()\n",
        "model1.add(Embedding(MAX_NB_WORDS, EMBEDDING_DIM, input_length=X.shape[1]))\n",
        "model1.add(LSTM(100, dropout=0.2, recurrent_dropout=0.2))\n",
        "model1.add(Dense(8, activation='softmax'))\n",
        "\n",
        "#Compile\n",
        "model1.compile(loss='categorical_crossentropy', optimizer='adam', metrics=['accuracy'])\n",
        "\n",
        "#Fit\n",
        "epochs = 50\n",
        "batch_size = 64\n",
        "\n",
        "history1 = model1.fit(X_train,\n",
        "                    Y_train,\n",
        "                    epochs=epochs,\n",
        "                    validation_data=(X_test,Y_test))\n",
        "\n"
      ],
      "metadata": {
        "colab": {
          "base_uri": "https://localhost:8080/"
        },
        "id": "C4kqpQCy6DgH",
        "outputId": "3deb3a1f-8b2f-45a7-a217-6966b2b9c802"
      },
      "execution_count": 162,
      "outputs": [
        {
          "output_type": "stream",
          "name": "stderr",
          "text": [
            "WARNING:tensorflow:Layer lstm_11 will not use cuDNN kernels since it doesn't meet the criteria. It will use a generic GPU kernel as fallback when running on GPU.\n"
          ]
        },
        {
          "output_type": "stream",
          "name": "stdout",
          "text": [
            "Epoch 1/50\n",
            "3/3 [==============================] - 8s 2s/step - loss: 2.0749 - accuracy: 0.2340 - val_loss: 2.0708 - val_accuracy: 0.1818\n",
            "Epoch 2/50\n",
            "3/3 [==============================] - 3s 1s/step - loss: 2.0448 - accuracy: 0.5106 - val_loss: 2.0592 - val_accuracy: 0.0909\n",
            "Epoch 3/50\n",
            "3/3 [==============================] - 3s 1s/step - loss: 2.0051 - accuracy: 0.4894 - val_loss: 2.0304 - val_accuracy: 0.0909\n",
            "Epoch 4/50\n",
            "3/3 [==============================] - 5s 2s/step - loss: 1.8970 - accuracy: 0.3298 - val_loss: 1.9813 - val_accuracy: 0.1818\n",
            "Epoch 5/50\n",
            "3/3 [==============================] - 3s 1s/step - loss: 1.7224 - accuracy: 0.2553 - val_loss: 2.0561 - val_accuracy: 0.1818\n",
            "Epoch 6/50\n",
            "3/3 [==============================] - 3s 1s/step - loss: 1.6511 - accuracy: 0.4468 - val_loss: 1.9660 - val_accuracy: 0.0909\n",
            "Epoch 7/50\n",
            "3/3 [==============================] - 5s 2s/step - loss: 1.6131 - accuracy: 0.4362 - val_loss: 2.0024 - val_accuracy: 0.0909\n",
            "Epoch 8/50\n",
            "3/3 [==============================] - 4s 1s/step - loss: 1.5596 - accuracy: 0.3511 - val_loss: 2.0188 - val_accuracy: 0.1818\n",
            "Epoch 9/50\n",
            "3/3 [==============================] - 3s 1s/step - loss: 1.4282 - accuracy: 0.6277 - val_loss: 1.9351 - val_accuracy: 0.1818\n",
            "Epoch 10/50\n",
            "3/3 [==============================] - 4s 2s/step - loss: 1.3317 - accuracy: 0.7234 - val_loss: 2.0955 - val_accuracy: 0.1818\n",
            "Epoch 11/50\n",
            "3/3 [==============================] - 4s 1s/step - loss: 1.2231 - accuracy: 0.6277 - val_loss: 1.9253 - val_accuracy: 0.3636\n",
            "Epoch 12/50\n",
            "3/3 [==============================] - 3s 1s/step - loss: 1.0998 - accuracy: 0.7872 - val_loss: 1.8411 - val_accuracy: 0.5455\n",
            "Epoch 13/50\n",
            "3/3 [==============================] - 3s 1s/step - loss: 0.9784 - accuracy: 0.8085 - val_loss: 1.8628 - val_accuracy: 0.5455\n",
            "Epoch 14/50\n",
            "3/3 [==============================] - 5s 1s/step - loss: 0.8499 - accuracy: 0.8830 - val_loss: 1.7033 - val_accuracy: 0.5455\n",
            "Epoch 15/50\n",
            "3/3 [==============================] - 3s 1s/step - loss: 0.7573 - accuracy: 0.8830 - val_loss: 1.7675 - val_accuracy: 0.5455\n",
            "Epoch 16/50\n",
            "3/3 [==============================] - 3s 1s/step - loss: 0.6582 - accuracy: 0.8511 - val_loss: 1.7080 - val_accuracy: 0.5455\n",
            "Epoch 17/50\n",
            "3/3 [==============================] - 4s 2s/step - loss: 0.5533 - accuracy: 0.8723 - val_loss: 1.5415 - val_accuracy: 0.5455\n",
            "Epoch 18/50\n",
            "3/3 [==============================] - 3s 1s/step - loss: 0.5559 - accuracy: 0.8617 - val_loss: 2.0235 - val_accuracy: 0.5455\n",
            "Epoch 19/50\n",
            "3/3 [==============================] - 3s 1s/step - loss: 0.7863 - accuracy: 0.7447 - val_loss: 1.7525 - val_accuracy: 0.3636\n",
            "Epoch 20/50\n",
            "3/3 [==============================] - 4s 2s/step - loss: 0.5826 - accuracy: 0.8617 - val_loss: 1.7689 - val_accuracy: 0.4545\n",
            "Epoch 21/50\n",
            "3/3 [==============================] - 4s 1s/step - loss: 0.5126 - accuracy: 0.9043 - val_loss: 2.0890 - val_accuracy: 0.4545\n",
            "Epoch 22/50\n",
            "3/3 [==============================] - 3s 1s/step - loss: 0.4916 - accuracy: 0.9255 - val_loss: 1.6400 - val_accuracy: 0.4545\n",
            "Epoch 23/50\n",
            "3/3 [==============================] - 3s 1s/step - loss: 0.4549 - accuracy: 0.9255 - val_loss: 1.6523 - val_accuracy: 0.4545\n",
            "Epoch 24/50\n",
            "3/3 [==============================] - 4s 1s/step - loss: 0.4389 - accuracy: 0.9255 - val_loss: 1.6806 - val_accuracy: 0.4545\n",
            "Epoch 25/50\n",
            "3/3 [==============================] - 3s 971ms/step - loss: 0.4115 - accuracy: 0.9043 - val_loss: 1.7396 - val_accuracy: 0.4545\n",
            "Epoch 26/50\n",
            "3/3 [==============================] - 3s 1s/step - loss: 0.3945 - accuracy: 0.8936 - val_loss: 1.6889 - val_accuracy: 0.5455\n",
            "Epoch 27/50\n",
            "3/3 [==============================] - 5s 2s/step - loss: 0.3745 - accuracy: 0.9043 - val_loss: 1.6328 - val_accuracy: 0.5455\n",
            "Epoch 28/50\n",
            "3/3 [==============================] - 3s 935ms/step - loss: 0.3581 - accuracy: 0.9255 - val_loss: 1.6517 - val_accuracy: 0.6364\n",
            "Epoch 29/50\n",
            "3/3 [==============================] - 3s 1s/step - loss: 0.3541 - accuracy: 0.9043 - val_loss: 1.9874 - val_accuracy: 0.5455\n",
            "Epoch 30/50\n",
            "3/3 [==============================] - 4s 1s/step - loss: 0.3412 - accuracy: 0.9255 - val_loss: 2.0628 - val_accuracy: 0.5455\n",
            "Epoch 31/50\n",
            "3/3 [==============================] - 4s 1s/step - loss: 0.3157 - accuracy: 0.9362 - val_loss: 1.8508 - val_accuracy: 0.5455\n",
            "Epoch 32/50\n",
            "3/3 [==============================] - 4s 2s/step - loss: 0.3004 - accuracy: 0.9255 - val_loss: 1.7767 - val_accuracy: 0.6364\n",
            "Epoch 33/50\n",
            "3/3 [==============================] - 3s 1s/step - loss: 0.2810 - accuracy: 0.9468 - val_loss: 1.8795 - val_accuracy: 0.5455\n",
            "Epoch 34/50\n",
            "3/3 [==============================] - 5s 1s/step - loss: 0.2670 - accuracy: 0.9574 - val_loss: 2.0267 - val_accuracy: 0.5455\n",
            "Epoch 35/50\n",
            "3/3 [==============================] - 3s 1s/step - loss: 0.2511 - accuracy: 0.9681 - val_loss: 2.0580 - val_accuracy: 0.5455\n",
            "Epoch 36/50\n",
            "3/3 [==============================] - 3s 1s/step - loss: 0.2363 - accuracy: 0.9574 - val_loss: 2.0382 - val_accuracy: 0.5455\n",
            "Epoch 37/50\n",
            "3/3 [==============================] - 4s 2s/step - loss: 0.2195 - accuracy: 0.9787 - val_loss: 2.0534 - val_accuracy: 0.5455\n",
            "Epoch 38/50\n",
            "3/3 [==============================] - 3s 1s/step - loss: 0.2087 - accuracy: 0.9468 - val_loss: 2.0113 - val_accuracy: 0.5455\n",
            "Epoch 39/50\n",
            "3/3 [==============================] - 3s 954ms/step - loss: 0.1941 - accuracy: 0.9787 - val_loss: 1.9720 - val_accuracy: 0.5455\n",
            "Epoch 40/50\n",
            "3/3 [==============================] - 3s 954ms/step - loss: 0.1800 - accuracy: 0.9787 - val_loss: 2.0341 - val_accuracy: 0.5455\n",
            "Epoch 41/50\n",
            "3/3 [==============================] - 4s 1s/step - loss: 0.1662 - accuracy: 0.9894 - val_loss: 2.0299 - val_accuracy: 0.5455\n",
            "Epoch 42/50\n",
            "3/3 [==============================] - 3s 1s/step - loss: 0.1542 - accuracy: 1.0000 - val_loss: 2.0782 - val_accuracy: 0.5455\n",
            "Epoch 43/50\n",
            "3/3 [==============================] - 3s 1s/step - loss: 0.1423 - accuracy: 1.0000 - val_loss: 2.0861 - val_accuracy: 0.5455\n",
            "Epoch 44/50\n",
            "3/3 [==============================] - 4s 2s/step - loss: 0.1323 - accuracy: 1.0000 - val_loss: 2.0185 - val_accuracy: 0.6364\n",
            "Epoch 45/50\n",
            "3/3 [==============================] - 3s 1s/step - loss: 0.1213 - accuracy: 1.0000 - val_loss: 1.9051 - val_accuracy: 0.6364\n",
            "Epoch 46/50\n",
            "3/3 [==============================] - 3s 1s/step - loss: 0.1113 - accuracy: 1.0000 - val_loss: 1.8825 - val_accuracy: 0.6364\n",
            "Epoch 47/50\n",
            "3/3 [==============================] - 3s 1s/step - loss: 0.1099 - accuracy: 1.0000 - val_loss: 1.7660 - val_accuracy: 0.6364\n",
            "Epoch 48/50\n",
            "3/3 [==============================] - 5s 1s/step - loss: 0.0969 - accuracy: 1.0000 - val_loss: 1.6775 - val_accuracy: 0.6364\n",
            "Epoch 49/50\n",
            "3/3 [==============================] - 3s 1s/step - loss: 0.0912 - accuracy: 1.0000 - val_loss: 1.7992 - val_accuracy: 0.6364\n",
            "Epoch 50/50\n",
            "3/3 [==============================] - 3s 1s/step - loss: 0.0785 - accuracy: 1.0000 - val_loss: 1.8982 - val_accuracy: 0.6364\n"
          ]
        }
      ]
    },
    {
      "cell_type": "code",
      "source": [
        "# Model performance on test data\n",
        "model1.evaluate(X_test, Y_test)"
      ],
      "metadata": {
        "colab": {
          "base_uri": "https://localhost:8080/"
        },
        "id": "CRsqlHFm8KEJ",
        "outputId": "ab026cab-dda4-445c-c073-8e7168b72803"
      },
      "execution_count": 163,
      "outputs": [
        {
          "output_type": "stream",
          "name": "stdout",
          "text": [
            "1/1 [==============================] - 0s 80ms/step - loss: 1.8982 - accuracy: 0.6364\n"
          ]
        },
        {
          "output_type": "execute_result",
          "data": {
            "text/plain": [
              "[1.8982447385787964, 0.6363636255264282]"
            ]
          },
          "metadata": {},
          "execution_count": 163
        }
      ]
    },
    {
      "cell_type": "code",
      "source": [
        "model1.save(\"model1.h5\")"
      ],
      "metadata": {
        "colab": {
          "base_uri": "https://localhost:8080/"
        },
        "id": "4UCnOqoL_XA0",
        "outputId": "f6e71e10-1d4f-4456-da48-2156ecc45e06"
      },
      "execution_count": 143,
      "outputs": [
        {
          "output_type": "stream",
          "name": "stderr",
          "text": [
            "/usr/local/lib/python3.10/dist-packages/keras/src/engine/training.py:3000: UserWarning:\n",
            "\n",
            "You are saving your model as an HDF5 file via `model.save()`. This file format is considered legacy. We recommend using instead the native Keras format, e.g. `model.save('my_model.keras')`.\n",
            "\n"
          ]
        }
      ]
    },
    {
      "cell_type": "markdown",
      "source": [
        "### GRU & RNN"
      ],
      "metadata": {
        "id": "RrRuaf9ZCBaD"
      }
    },
    {
      "cell_type": "code",
      "source": [
        "from keras import layers\n",
        "from tensorflow.keras.layers import GRU,SimpleRNN\n",
        "\n",
        "\n",
        "# Create model\n",
        "model2 = Sequential()\n",
        "model2.add(Embedding(MAX_NB_WORDS, EMBEDDING_DIM, input_length=X.shape[1]))\n",
        "model2.add(layers.GRU(64, return_sequences=True))\n",
        "model2.add(layers.SimpleRNN(64))\n",
        "model2.add(Dense(8, activation='softmax'))\n",
        "\n",
        "#Compile\n",
        "model2.compile(loss='categorical_crossentropy', optimizer='adam', metrics=['accuracy'])\n",
        "\n",
        "#Fit\n",
        "epochs = 50\n",
        "batch_size = 64\n",
        "\n",
        "history2 = model2.fit(X_train,\n",
        "                    Y_train,\n",
        "                    epochs=epochs,\n",
        "                    validation_data=(X_test,Y_test))\n",
        "\n",
        "\n"
      ],
      "metadata": {
        "colab": {
          "base_uri": "https://localhost:8080/"
        },
        "id": "Exp34rVgB_c_",
        "outputId": "bb2f535e-eb9b-4c35-ad8a-d8f37bbda6ce"
      },
      "execution_count": 175,
      "outputs": [
        {
          "output_type": "stream",
          "name": "stdout",
          "text": [
            "Epoch 1/50\n",
            "3/3 [==============================] - 6s 662ms/step - loss: 2.0895 - accuracy: 0.1064 - val_loss: 2.0716 - val_accuracy: 0.1818\n",
            "Epoch 2/50\n",
            "3/3 [==============================] - 1s 392ms/step - loss: 1.8486 - accuracy: 0.5532 - val_loss: 2.0294 - val_accuracy: 0.2727\n",
            "Epoch 3/50\n",
            "3/3 [==============================] - 1s 378ms/step - loss: 1.6217 - accuracy: 0.8723 - val_loss: 2.0408 - val_accuracy: 0.1818\n",
            "Epoch 4/50\n",
            "3/3 [==============================] - 1s 445ms/step - loss: 1.3942 - accuracy: 0.9681 - val_loss: 2.0833 - val_accuracy: 0.0909\n",
            "Epoch 5/50\n",
            "3/3 [==============================] - 1s 408ms/step - loss: 1.1812 - accuracy: 0.9894 - val_loss: 2.0638 - val_accuracy: 0.1818\n",
            "Epoch 6/50\n",
            "3/3 [==============================] - 1s 402ms/step - loss: 0.9864 - accuracy: 1.0000 - val_loss: 2.1978 - val_accuracy: 0.0909\n",
            "Epoch 7/50\n",
            "3/3 [==============================] - 1s 388ms/step - loss: 0.8327 - accuracy: 0.9894 - val_loss: 2.0391 - val_accuracy: 0.1818\n",
            "Epoch 8/50\n",
            "3/3 [==============================] - 1s 397ms/step - loss: 0.7206 - accuracy: 1.0000 - val_loss: 2.0807 - val_accuracy: 0.1818\n",
            "Epoch 9/50\n",
            "3/3 [==============================] - 2s 836ms/step - loss: 0.5954 - accuracy: 1.0000 - val_loss: 2.0975 - val_accuracy: 0.1818\n",
            "Epoch 10/50\n",
            "3/3 [==============================] - 1s 378ms/step - loss: 0.4927 - accuracy: 1.0000 - val_loss: 2.1746 - val_accuracy: 0.1818\n",
            "Epoch 11/50\n",
            "3/3 [==============================] - 1s 431ms/step - loss: 0.3985 - accuracy: 1.0000 - val_loss: 2.1980 - val_accuracy: 0.1818\n",
            "Epoch 12/50\n",
            "3/3 [==============================] - 1s 378ms/step - loss: 0.3321 - accuracy: 1.0000 - val_loss: 2.1988 - val_accuracy: 0.1818\n",
            "Epoch 13/50\n",
            "3/3 [==============================] - 1s 376ms/step - loss: 0.2726 - accuracy: 1.0000 - val_loss: 2.2410 - val_accuracy: 0.1818\n",
            "Epoch 14/50\n",
            "3/3 [==============================] - 1s 410ms/step - loss: 0.2253 - accuracy: 1.0000 - val_loss: 2.1841 - val_accuracy: 0.1818\n",
            "Epoch 15/50\n",
            "3/3 [==============================] - 1s 237ms/step - loss: 0.1890 - accuracy: 1.0000 - val_loss: 2.2185 - val_accuracy: 0.1818\n",
            "Epoch 16/50\n",
            "3/3 [==============================] - 1s 369ms/step - loss: 0.1574 - accuracy: 1.0000 - val_loss: 2.2960 - val_accuracy: 0.1818\n",
            "Epoch 17/50\n",
            "3/3 [==============================] - 1s 405ms/step - loss: 0.1350 - accuracy: 1.0000 - val_loss: 2.2786 - val_accuracy: 0.1818\n",
            "Epoch 18/50\n",
            "3/3 [==============================] - 1s 335ms/step - loss: 0.1147 - accuracy: 1.0000 - val_loss: 2.3181 - val_accuracy: 0.0909\n",
            "Epoch 19/50\n",
            "3/3 [==============================] - 1s 516ms/step - loss: 0.0999 - accuracy: 1.0000 - val_loss: 2.3123 - val_accuracy: 0.0000e+00\n",
            "Epoch 20/50\n",
            "3/3 [==============================] - 2s 591ms/step - loss: 0.0870 - accuracy: 1.0000 - val_loss: 2.3217 - val_accuracy: 0.0000e+00\n",
            "Epoch 21/50\n",
            "3/3 [==============================] - 1s 395ms/step - loss: 0.0769 - accuracy: 1.0000 - val_loss: 2.3179 - val_accuracy: 0.0000e+00\n",
            "Epoch 22/50\n",
            "3/3 [==============================] - 1s 363ms/step - loss: 0.0683 - accuracy: 1.0000 - val_loss: 2.3014 - val_accuracy: 0.0000e+00\n",
            "Epoch 23/50\n",
            "3/3 [==============================] - 1s 374ms/step - loss: 0.0617 - accuracy: 1.0000 - val_loss: 2.3144 - val_accuracy: 0.0000e+00\n",
            "Epoch 24/50\n",
            "3/3 [==============================] - 1s 399ms/step - loss: 0.0553 - accuracy: 1.0000 - val_loss: 2.3477 - val_accuracy: 0.0909\n",
            "Epoch 25/50\n",
            "3/3 [==============================] - 1s 393ms/step - loss: 0.0506 - accuracy: 1.0000 - val_loss: 2.3299 - val_accuracy: 0.0909\n",
            "Epoch 26/50\n",
            "3/3 [==============================] - 1s 248ms/step - loss: 0.0465 - accuracy: 1.0000 - val_loss: 2.3228 - val_accuracy: 0.0909\n",
            "Epoch 27/50\n",
            "3/3 [==============================] - 1s 377ms/step - loss: 0.0426 - accuracy: 1.0000 - val_loss: 2.3391 - val_accuracy: 0.0909\n",
            "Epoch 28/50\n",
            "3/3 [==============================] - 1s 412ms/step - loss: 0.0396 - accuracy: 1.0000 - val_loss: 2.3381 - val_accuracy: 0.0909\n",
            "Epoch 29/50\n",
            "3/3 [==============================] - 1s 360ms/step - loss: 0.0369 - accuracy: 1.0000 - val_loss: 2.3188 - val_accuracy: 0.0909\n",
            "Epoch 30/50\n",
            "3/3 [==============================] - 2s 663ms/step - loss: 0.0344 - accuracy: 1.0000 - val_loss: 2.3452 - val_accuracy: 0.0909\n",
            "Epoch 31/50\n",
            "3/3 [==============================] - 1s 371ms/step - loss: 0.0324 - accuracy: 1.0000 - val_loss: 2.3638 - val_accuracy: 0.0909\n",
            "Epoch 32/50\n",
            "3/3 [==============================] - 1s 403ms/step - loss: 0.0306 - accuracy: 1.0000 - val_loss: 2.3581 - val_accuracy: 0.0909\n",
            "Epoch 33/50\n",
            "3/3 [==============================] - 1s 395ms/step - loss: 0.0286 - accuracy: 1.0000 - val_loss: 2.3735 - val_accuracy: 0.0909\n",
            "Epoch 34/50\n",
            "3/3 [==============================] - 1s 398ms/step - loss: 0.0273 - accuracy: 1.0000 - val_loss: 2.3610 - val_accuracy: 0.0909\n",
            "Epoch 35/50\n",
            "3/3 [==============================] - 1s 347ms/step - loss: 0.0260 - accuracy: 1.0000 - val_loss: 2.3652 - val_accuracy: 0.0909\n",
            "Epoch 36/50\n",
            "3/3 [==============================] - 1s 360ms/step - loss: 0.0248 - accuracy: 1.0000 - val_loss: 2.3770 - val_accuracy: 0.0909\n",
            "Epoch 37/50\n",
            "3/3 [==============================] - 1s 407ms/step - loss: 0.0234 - accuracy: 1.0000 - val_loss: 2.3881 - val_accuracy: 0.0909\n",
            "Epoch 38/50\n",
            "3/3 [==============================] - 1s 396ms/step - loss: 0.0222 - accuracy: 1.0000 - val_loss: 2.3914 - val_accuracy: 0.0909\n",
            "Epoch 39/50\n",
            "3/3 [==============================] - 1s 389ms/step - loss: 0.0213 - accuracy: 1.0000 - val_loss: 2.4043 - val_accuracy: 0.0909\n",
            "Epoch 40/50\n",
            "3/3 [==============================] - 2s 715ms/step - loss: 0.0203 - accuracy: 1.0000 - val_loss: 2.4102 - val_accuracy: 0.0909\n",
            "Epoch 41/50\n",
            "3/3 [==============================] - 1s 316ms/step - loss: 0.0194 - accuracy: 1.0000 - val_loss: 2.4034 - val_accuracy: 0.0909\n",
            "Epoch 42/50\n",
            "3/3 [==============================] - 1s 388ms/step - loss: 0.0186 - accuracy: 1.0000 - val_loss: 2.4163 - val_accuracy: 0.0909\n",
            "Epoch 43/50\n",
            "3/3 [==============================] - 1s 303ms/step - loss: 0.0178 - accuracy: 1.0000 - val_loss: 2.4237 - val_accuracy: 0.0909\n",
            "Epoch 44/50\n",
            "3/3 [==============================] - 1s 339ms/step - loss: 0.0171 - accuracy: 1.0000 - val_loss: 2.4198 - val_accuracy: 0.0909\n",
            "Epoch 45/50\n",
            "3/3 [==============================] - 1s 245ms/step - loss: 0.0165 - accuracy: 1.0000 - val_loss: 2.4287 - val_accuracy: 0.0909\n",
            "Epoch 46/50\n",
            "3/3 [==============================] - 1s 451ms/step - loss: 0.0159 - accuracy: 1.0000 - val_loss: 2.4445 - val_accuracy: 0.0909\n",
            "Epoch 47/50\n",
            "3/3 [==============================] - 1s 385ms/step - loss: 0.0153 - accuracy: 1.0000 - val_loss: 2.4390 - val_accuracy: 0.0909\n",
            "Epoch 48/50\n",
            "3/3 [==============================] - 1s 238ms/step - loss: 0.0147 - accuracy: 1.0000 - val_loss: 2.4499 - val_accuracy: 0.0909\n",
            "Epoch 49/50\n",
            "3/3 [==============================] - 1s 427ms/step - loss: 0.0142 - accuracy: 1.0000 - val_loss: 2.4460 - val_accuracy: 0.0909\n",
            "Epoch 50/50\n",
            "3/3 [==============================] - 1s 316ms/step - loss: 0.0138 - accuracy: 1.0000 - val_loss: 2.4664 - val_accuracy: 0.0909\n"
          ]
        }
      ]
    },
    {
      "cell_type": "code",
      "source": [
        "# Model performance on test data\n",
        "model2.evaluate(X_test, Y_test)"
      ],
      "metadata": {
        "colab": {
          "base_uri": "https://localhost:8080/"
        },
        "id": "Jko30LtQCZS6",
        "outputId": "e2460185-89b4-4a30-f36c-808ec8a90f0b"
      },
      "execution_count": 176,
      "outputs": [
        {
          "output_type": "stream",
          "name": "stdout",
          "text": [
            "1/1 [==============================] - 0s 61ms/step - loss: 2.4664 - accuracy: 0.0909\n"
          ]
        },
        {
          "output_type": "execute_result",
          "data": {
            "text/plain": [
              "[2.4664361476898193, 0.09090909361839294]"
            ]
          },
          "metadata": {},
          "execution_count": 176
        }
      ]
    },
    {
      "cell_type": "code",
      "source": [
        "model2.save(\"model1.h5\")"
      ],
      "metadata": {
        "colab": {
          "base_uri": "https://localhost:8080/"
        },
        "id": "hYm5AIxvCugU",
        "outputId": "0752ad7d-d685-4604-a7ed-7dcddfed4d7c"
      },
      "execution_count": 177,
      "outputs": [
        {
          "output_type": "stream",
          "name": "stderr",
          "text": [
            "/usr/local/lib/python3.10/dist-packages/keras/src/engine/training.py:3000: UserWarning:\n",
            "\n",
            "You are saving your model as an HDF5 file via `model.save()`. This file format is considered legacy. We recommend using instead the native Keras format, e.g. `model.save('my_model.keras')`.\n",
            "\n"
          ]
        }
      ]
    },
    {
      "cell_type": "markdown",
      "source": [
        "## Plot Loss curve"
      ],
      "metadata": {
        "id": "uZk-WI5LDEU6"
      }
    },
    {
      "cell_type": "code",
      "source": [
        "# Check out the loss & accuracy curves of baseline model\n",
        "plot_loss_curves(history)"
      ],
      "metadata": {
        "colab": {
          "base_uri": "https://localhost:8080/",
          "height": 927
        },
        "id": "9UeJkgFeCx6A",
        "outputId": "766c8118-5cc4-4012-9108-21972bd8527b"
      },
      "execution_count": 167,
      "outputs": [
        {
          "output_type": "display_data",
          "data": {
            "text/plain": [
              "<Figure size 640x480 with 1 Axes>"
            ],
            "image/png": "[encoded data removed]"
          },
          "metadata": {}
        },
        {
          "output_type": "display_data",
          "data": {
            "text/plain": [
              "<Figure size 640x480 with 1 Axes>"
            ],
            "image/png": "[encoded data removed]"
          },
          "metadata": {}
        }
      ]
    },
    {
      "cell_type": "code",
      "source": [
        "# Check out the loss & accuracy curves of LSTM model\n",
        "plot_loss_curves(history1)"
      ],
      "metadata": {
        "colab": {
          "base_uri": "https://localhost:8080/",
          "height": 927
        },
        "id": "weqbwHaLDNd_",
        "outputId": "c4ba9c27-3234-4b1a-af55-ba253294bef4"
      },
      "execution_count": 168,
      "outputs": [
        {
          "output_type": "display_data",
          "data": {
            "text/plain": [
              "<Figure size 640x480 with 1 Axes>"
            ],
            "image/png": "[encoded data removed]"
          },
          "metadata": {}
        },
        {
          "output_type": "display_data",
          "data": {
            "text/plain": [
              "<Figure size 640x480 with 1 Axes>"
            ],
            "image/png": "[encoded data removed]"
          },
          "metadata": {}
        }
      ]
    },
    {
      "cell_type": "code",
      "source": [
        "# Check out the loss & accuracy curves of GRU & RNN model\n",
        "plot_loss_curves(history2)"
      ],
      "metadata": {
        "colab": {
          "base_uri": "https://localhost:8080/",
          "height": 927
        },
        "id": "yVZiiq66DY77",
        "outputId": "18c786f8-f7df-448d-def2-d6cab441c852"
      },
      "execution_count": 178,
      "outputs": [
        {
          "output_type": "display_data",
          "data": {
            "text/plain": [
              "<Figure size 640x480 with 1 Axes>"
            ],
            "image/png": "[encoded data removed]"
          },
          "metadata": {}
        },
        {
          "output_type": "display_data",
          "data": {
            "text/plain": [
              "<Figure size 640x480 with 1 Axes>"
            ],
            "image/png": "[encoded data removed]"
          },
          "metadata": {}
        }
      ]
    },
    {
      "cell_type": "code",
      "source": [],
      "metadata": {
        "id": "bXsoaOiZDdHv"
      },
      "execution_count": null,
      "outputs": []
    }
  ]
}